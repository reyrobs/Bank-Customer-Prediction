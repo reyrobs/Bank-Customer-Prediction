{
 "cells": [
  {
   "cell_type": "code",
   "execution_count": 1,
   "id": "8df0febf",
   "metadata": {},
   "outputs": [],
   "source": [
    "import pandas as pd\n",
    "from matplotlib import pyplot as plt\n",
    "import numpy as np\n",
    "%matplotlib inline"
   ]
  },
  {
   "cell_type": "code",
   "execution_count": 68,
   "id": "5e160584",
   "metadata": {},
   "outputs": [],
   "source": [
    "df = pd.read_csv(\"Bank_dataset.csv\")"
   ]
  },
  {
   "cell_type": "code",
   "execution_count": 75,
   "id": "54aa72ca",
   "metadata": {},
   "outputs": [
    {
     "data": {
      "text/plain": [
       "(10000, 11)"
      ]
     },
     "execution_count": 75,
     "metadata": {},
     "output_type": "execute_result"
    }
   ],
   "source": [
    "df.shape"
   ]
  },
  {
   "cell_type": "code",
   "execution_count": 70,
   "id": "fac0ce77",
   "metadata": {},
   "outputs": [],
   "source": [
    "df.drop(['RowNumber', 'CustomerId', 'Surname'],axis='columns', inplace=True)"
   ]
  },
  {
   "cell_type": "code",
   "execution_count": 73,
   "id": "2705edde",
   "metadata": {},
   "outputs": [
    {
     "data": {
      "text/html": [
       "<div>\n",
       "<style scoped>\n",
       "    .dataframe tbody tr th:only-of-type {\n",
       "        vertical-align: middle;\n",
       "    }\n",
       "\n",
       "    .dataframe tbody tr th {\n",
       "        vertical-align: top;\n",
       "    }\n",
       "\n",
       "    .dataframe thead th {\n",
       "        text-align: right;\n",
       "    }\n",
       "</style>\n",
       "<table border=\"1\" class=\"dataframe\">\n",
       "  <thead>\n",
       "    <tr style=\"text-align: right;\">\n",
       "      <th></th>\n",
       "      <th>CreditScore</th>\n",
       "      <th>Geography</th>\n",
       "      <th>Gender</th>\n",
       "      <th>Age</th>\n",
       "      <th>Tenure</th>\n",
       "      <th>Balance</th>\n",
       "      <th>NumOfProducts</th>\n",
       "      <th>HasCrCard</th>\n",
       "      <th>IsActiveMember</th>\n",
       "      <th>EstimatedSalary</th>\n",
       "      <th>Exited</th>\n",
       "    </tr>\n",
       "  </thead>\n",
       "  <tbody>\n",
       "    <tr>\n",
       "      <th>7216</th>\n",
       "      <td>679</td>\n",
       "      <td>France</td>\n",
       "      <td>Male</td>\n",
       "      <td>41</td>\n",
       "      <td>8</td>\n",
       "      <td>147726.98</td>\n",
       "      <td>3</td>\n",
       "      <td>1</td>\n",
       "      <td>0</td>\n",
       "      <td>172749.40</td>\n",
       "      <td>1</td>\n",
       "    </tr>\n",
       "    <tr>\n",
       "      <th>41</th>\n",
       "      <td>465</td>\n",
       "      <td>France</td>\n",
       "      <td>Female</td>\n",
       "      <td>51</td>\n",
       "      <td>8</td>\n",
       "      <td>122522.32</td>\n",
       "      <td>1</td>\n",
       "      <td>0</td>\n",
       "      <td>0</td>\n",
       "      <td>181297.65</td>\n",
       "      <td>1</td>\n",
       "    </tr>\n",
       "    <tr>\n",
       "      <th>2896</th>\n",
       "      <td>782</td>\n",
       "      <td>France</td>\n",
       "      <td>Female</td>\n",
       "      <td>33</td>\n",
       "      <td>2</td>\n",
       "      <td>94493.03</td>\n",
       "      <td>1</td>\n",
       "      <td>0</td>\n",
       "      <td>1</td>\n",
       "      <td>101866.39</td>\n",
       "      <td>0</td>\n",
       "    </tr>\n",
       "    <tr>\n",
       "      <th>3828</th>\n",
       "      <td>497</td>\n",
       "      <td>Germany</td>\n",
       "      <td>Female</td>\n",
       "      <td>55</td>\n",
       "      <td>7</td>\n",
       "      <td>131778.66</td>\n",
       "      <td>1</td>\n",
       "      <td>1</td>\n",
       "      <td>1</td>\n",
       "      <td>9972.64</td>\n",
       "      <td>0</td>\n",
       "    </tr>\n",
       "    <tr>\n",
       "      <th>9191</th>\n",
       "      <td>572</td>\n",
       "      <td>France</td>\n",
       "      <td>Male</td>\n",
       "      <td>30</td>\n",
       "      <td>6</td>\n",
       "      <td>117696.67</td>\n",
       "      <td>1</td>\n",
       "      <td>1</td>\n",
       "      <td>0</td>\n",
       "      <td>100843.82</td>\n",
       "      <td>0</td>\n",
       "    </tr>\n",
       "  </tbody>\n",
       "</table>\n",
       "</div>"
      ],
      "text/plain": [
       "      CreditScore Geography  Gender  Age  Tenure    Balance  NumOfProducts  \\\n",
       "7216          679    France    Male   41       8  147726.98              3   \n",
       "41            465    France  Female   51       8  122522.32              1   \n",
       "2896          782    France  Female   33       2   94493.03              1   \n",
       "3828          497   Germany  Female   55       7  131778.66              1   \n",
       "9191          572    France    Male   30       6  117696.67              1   \n",
       "\n",
       "      HasCrCard  IsActiveMember  EstimatedSalary  Exited  \n",
       "7216          1               0        172749.40       1  \n",
       "41            0               0        181297.65       1  \n",
       "2896          0               1        101866.39       0  \n",
       "3828          1               1          9972.64       0  \n",
       "9191          1               0        100843.82       0  "
      ]
     },
     "execution_count": 73,
     "metadata": {},
     "output_type": "execute_result"
    }
   ],
   "source": [
    "df.sample(5)"
   ]
  },
  {
   "cell_type": "code",
   "execution_count": 83,
   "id": "a271c015",
   "metadata": {},
   "outputs": [
    {
     "data": {
      "text/plain": [
       "<matplotlib.legend.Legend at 0x1654bdfa0>"
      ]
     },
     "execution_count": 83,
     "metadata": {},
     "output_type": "execute_result"
    },
    {
     "data": {
      "image/png": "[encoded data removed]",
      "text/plain": [
       "<Figure size 432x288 with 1 Axes>"
      ]
     },
     "metadata": {},
     "output_type": "display_data"
    }
   ],
   "source": [
    "tenure_churn_no = df[df.Exited==0].Exited\n",
    "tenure_churn_yes = df[df.Exited==1].Exited\n",
    "\n",
    "# plt.xlabel(\"Tenure (Years)\")\n",
    "plt.ylabel(\"Number Of Customers\")\n",
    "plt.title(\"Number of labels for exiting the bank\")\n",
    "plt.xticks([])\n",
    "plt.hist([tenure_churn_yes, tenure_churn_no], rwidth=1, color=['green','red'],label=['Exited=Yes','Exited=No'])\n",
    "plt.legend()"
   ]
  },
  {
   "cell_type": "code",
   "execution_count": 8,
   "id": "398d2ec2",
   "metadata": {},
   "outputs": [
    {
     "data": {
      "text/plain": [
       "<matplotlib.legend.Legend at 0x1344bb970>"
      ]
     },
     "execution_count": 8,
     "metadata": {},
     "output_type": "execute_result"
    },
    {
     "data": {
      "image/png": "[encoded data removed]",
      "text/plain": [
       "<Figure size 432x288 with 1 Axes>"
      ]
     },
     "metadata": {},
     "output_type": "display_data"
    }
   ],
   "source": [
    "x_yes = df[df.Exited==1].Age\n",
    "y_yes = df[df.Exited==1].Exited\n",
    "\n",
    "x_no = df[df.Exited==0].Age\n",
    "y_no = df[df.Exited==0].Exited\n",
    "\n",
    "import seaborn as sns\n",
    "sns.set()\n",
    "plt.scatter(x_yes, y_yes, s=4, color='green', label='Stay=Yes')\n",
    "plt.scatter(x_no, y_no, color='red', s=4, label='Stay=No')\n",
    "plt.xlabel(\"Credit Score\")\n",
    "plt.ylabel(\"Customer staying or leaving\")\n",
    "plt.title(\"Scatter Plot showing credit score vs customer leave\")\n",
    "plt.xlim(0, 100)\n",
    "plt.legend()"
   ]
  },
  {
   "cell_type": "code",
   "execution_count": 9,
   "id": "23e36fe3",
   "metadata": {},
   "outputs": [
    {
     "data": {
      "text/plain": [
       "2037"
      ]
     },
     "execution_count": 9,
     "metadata": {},
     "output_type": "execute_result"
    }
   ],
   "source": [
    "len(y_yes)"
   ]
  },
  {
   "cell_type": "code",
   "execution_count": 10,
   "id": "5c961007",
   "metadata": {},
   "outputs": [
    {
     "data": {
      "text/plain": [
       "0       42\n",
       "2       42\n",
       "5       44\n",
       "7       29\n",
       "16      58\n",
       "        ..\n",
       "9981    42\n",
       "9982    46\n",
       "9991    53\n",
       "9997    36\n",
       "9998    42\n",
       "Name: Age, Length: 2037, dtype: int64"
      ]
     },
     "execution_count": 10,
     "metadata": {},
     "output_type": "execute_result"
    }
   ],
   "source": [
    "x_yes"
   ]
  },
  {
   "cell_type": "code",
   "execution_count": 11,
   "id": "07eaa2fa",
   "metadata": {},
   "outputs": [
    {
     "data": {
      "text/plain": [
       "<matplotlib.legend.Legend at 0x134572790>"
      ]
     },
     "execution_count": 11,
     "metadata": {},
     "output_type": "execute_result"
    },
    {
     "data": {
      "image/png": "[encoded data removed]",
      "text/plain": [
       "<Figure size 432x288 with 1 Axes>"
      ]
     },
     "metadata": {},
     "output_type": "display_data"
    }
   ],
   "source": [
    "x_yes = df[df.Exited==1].CreditScore\n",
    "y_yes = df[df.Exited==1].Exited\n",
    "\n",
    "x_no = df[df.Exited==0].CreditScore\n",
    "y_no = df[df.Exited==0].Exited\n",
    "\n",
    "import seaborn as sns\n",
    "sns.set()\n",
    "plt.scatter(x_yes, y_yes, s=4, color='green', label='Exited=Yes')\n",
    "plt.scatter(x_no, y_no, color='red', s=4, label='Exited=No')\n",
    "plt.xlabel(\"Credit Score\")\n",
    "plt.ylabel(\"Customer staying or leaving\")\n",
    "plt.title(\"Scatter Plot showing credit score vs customer leave\")\n",
    "plt.xlim(300, 900)\n",
    "plt.legend()"
   ]
  },
  {
   "cell_type": "code",
   "execution_count": 12,
   "id": "f6a6d188",
   "metadata": {},
   "outputs": [
    {
     "data": {
      "text/plain": [
       "<matplotlib.legend.Legend at 0x1345ce700>"
      ]
     },
     "execution_count": 12,
     "metadata": {},
     "output_type": "execute_result"
    },
    {
     "data": {
      "image/png": "[encoded data removed]",
      "text/plain": [
       "<Figure size 432x288 with 1 Axes>"
      ]
     },
     "metadata": {},
     "output_type": "display_data"
    }
   ],
   "source": [
    "tenure_churn_no = df[df.Exited==0].Tenure\n",
    "tenure_churn_yes = df[df.Exited==1].Tenure\n",
    "\n",
    "plt.xlabel(\"Tenure (Years)\")\n",
    "plt.ylabel(\"Number Of Customers\")\n",
    "plt.title(\"Customer Leave vs Years at bank\")\n",
    "\n",
    "plt.hist([tenure_churn_yes, tenure_churn_no], rwidth=0.60, color=['green','red'],label=['Exited=Yes','Exited=No'])\n",
    "plt.legend()"
   ]
  },
  {
   "cell_type": "code",
   "execution_count": 13,
   "id": "28c29cb5",
   "metadata": {},
   "outputs": [
    {
     "data": {
      "text/plain": [
       "<matplotlib.legend.Legend at 0x134177910>"
      ]
     },
     "execution_count": 13,
     "metadata": {},
     "output_type": "execute_result"
    },
    {
     "data": {
      "image/png": "[encoded data removed]",
      "text/plain": [
       "<Figure size 432x288 with 1 Axes>"
      ]
     },
     "metadata": {},
     "output_type": "display_data"
    }
   ],
   "source": [
    "tenure_churn_no = df[df.Exited==0].Geography\n",
    "tenure_churn_yes = df[df.Exited==1].Geography\n",
    "\n",
    "plt.xlabel(\"Country\")\n",
    "plt.ylabel(\"Number Of Customers\")\n",
    "plt.title(\"Customer Leave vs Country Visualiztion\")\n",
    "\n",
    "plt.hist([tenure_churn_yes, tenure_churn_no], rwidth=1, color=['green','red'],label=['Exited=Yes','Exited=No'])\n",
    "plt.legend()"
   ]
  },
  {
   "cell_type": "code",
   "execution_count": 14,
   "id": "5d20692d",
   "metadata": {},
   "outputs": [
    {
     "data": {
      "image/png": "[encoded data removed]",
      "text/plain": [
       "<Figure size 432x288 with 1 Axes>"
      ]
     },
     "metadata": {},
     "output_type": "display_data"
    }
   ],
   "source": [
    "countries = df.Geography\n",
    "\n",
    "plt.xlabel(\"Country\")\n",
    "plt.ylabel(\"Number Of Customers\")\n",
    "plt.title(\"Spread of country visualisation\")\n",
    "\n",
    "plt.hist(countries, rwidth=0.60, color='blue')\n",
    "plt.show()"
   ]
  },
  {
   "cell_type": "code",
   "execution_count": 16,
   "id": "cbde573b",
   "metadata": {},
   "outputs": [],
   "source": [
    "def print_unique_col_values(df):\n",
    "       for column in df:\n",
    "            if df[column].dtypes=='object':\n",
    "                print(f'{column}: {df[column].unique()}') "
   ]
  },
  {
   "cell_type": "code",
   "execution_count": 17,
   "id": "0ffc97da",
   "metadata": {},
   "outputs": [
    {
     "name": "stdout",
     "output_type": "stream",
     "text": [
      "Geography: ['France' 'Spain' 'Germany']\n",
      "Gender: ['Female' 'Male']\n"
     ]
    }
   ],
   "source": [
    "print_unique_col_values(df)"
   ]
  },
  {
   "cell_type": "code",
   "execution_count": 18,
   "id": "65c7656f",
   "metadata": {},
   "outputs": [],
   "source": [
    "yes_no_columns = ['Gender']\n",
    "for col in yes_no_columns:\n",
    "    df[col].replace({'Male': 1,'Female': 0},inplace=True)"
   ]
  },
  {
   "cell_type": "code",
   "execution_count": 19,
   "id": "3b5e86fd",
   "metadata": {},
   "outputs": [
    {
     "name": "stdout",
     "output_type": "stream",
     "text": [
      "CreditScore: [619 608 502 699 850 645 822 376 501 684 528 497 476 549 635 616 653 587\n",
      " 726 732 636 510 669 846 577 756 571 574 411 591 533 553 520 722 475 490\n",
      " 804 582 472 465 556 834 660 776 829 637 550 698 585 788 655 601 656 725\n",
      " 511 614 742 687 555 603 751 581 735 661 675 738 813 657 604 519 664 678\n",
      " 757 416 665 777 543 506 493 652 750 729 646 647 808 524 769 730 515 773\n",
      " 814 710 413 623 670 622 785 605 479 685 538 562 721 628 668 828 674 625\n",
      " 432 770 758 795 686 789 589 461 584 579 663 682 793 691 485 650 754 535\n",
      " 716 539 706 586 631 717 800 683 704 615 667 484 480 578 512 606 597 778\n",
      " 514 525 715 580 807 521 759 516 711 618 643 671 689 620 676 572 695 592\n",
      " 567 694 547 594 673 610 767 763 712 703 662 659 523 772 545 634 739 771\n",
      " 681 544 696 766 727 693 557 531 498 651 791 733 811 707 714 782 775 799\n",
      " 602 744 588 747 583 627 731 629 438 642 806 474 559 429 680 749 734 644\n",
      " 626 649 805 718 840 630 654 762 568 613 522 737 648 443 640 540 460 593\n",
      " 801 611 802 745 483 690 492 709 705 560 752 701 537 487 596 702 486 724\n",
      " 548 464 790 534 748 494 590 468 509 818 816 536 753 774 621 569 658 798\n",
      " 641 542 692 639 765 570 638 599 632 779 527 564 833 504 842 508 417 598\n",
      " 741 607 761 848 546 439 755 760 526 713 700 666 566 495 688 612 477 427\n",
      " 839 819 720 459 503 624 529 563 482 796 445 746 786 554 672 787 499 844\n",
      " 450 815 838 803 736 633 600 679 517 792 743 488 421 841 708 507 505 456\n",
      " 435 561 518 565 728 784 552 609 764 697 723 551 444 719 496 541 830 812\n",
      " 677 420 595 617 809 500 826 434 513 478 797 363 399 463 780 452 575 837\n",
      " 794 824 428 823 781 849 489 431 457 768 831 359 820 573 576 558 817 449\n",
      " 440 415 821 530 350 446 425 740 481 783 358 845 451 458 469 423 404 836\n",
      " 473 835 466 491 351 827 843 365 532 414 453 471 401 810 832 470 447 422\n",
      " 825 430 436 426 408 847 418 437 410 454 407 455 462 386 405 383 395 467\n",
      " 433 442 424 448 441 367 412 382 373 419]\n",
      "Geography: ['France' 'Spain' 'Germany']\n",
      "Gender: [0 1]\n",
      "Age: [42 41 39 43 44 50 29 27 31 24 34 25 35 45 58 32 38 46 36 33 40 51 61 49\n",
      " 37 19 66 56 26 21 55 75 22 30 28 65 48 52 57 73 47 54 72 20 67 79 62 53\n",
      " 80 59 68 23 60 70 63 64 18 82 69 74 71 76 77 88 85 84 78 81 92 83]\n",
      "Tenure: [ 2  1  8  7  4  6  3 10  5  9  0]\n",
      "Balance: [     0.    83807.86 159660.8  ...  57369.61  75075.31 130142.79]\n",
      "NumOfProducts: [1 3 2 4]\n",
      "HasCrCard: [1 0]\n",
      "IsActiveMember: [1 0]\n",
      "EstimatedSalary: [101348.88 112542.58 113931.57 ...  42085.58  92888.52  38190.78]\n",
      "Exited: [1 0]\n"
     ]
    }
   ],
   "source": [
    "for col in df:\n",
    "    print(f'{col}: {df[col].unique()}') "
   ]
  },
  {
   "cell_type": "code",
   "execution_count": 20,
   "id": "3912ebff",
   "metadata": {},
   "outputs": [
    {
     "data": {
      "text/plain": [
       "Index(['CreditScore', 'Gender', 'Age', 'Tenure', 'Balance', 'NumOfProducts',\n",
       "       'HasCrCard', 'IsActiveMember', 'EstimatedSalary', 'Exited',\n",
       "       'Geography_France', 'Geography_Germany', 'Geography_Spain'],\n",
       "      dtype='object')"
      ]
     },
     "execution_count": 20,
     "metadata": {},
     "output_type": "execute_result"
    }
   ],
   "source": [
    "df2 = pd.get_dummies(data=df, columns=['Geography'])\n",
    "df2.columns"
   ]
  },
  {
   "cell_type": "code",
   "execution_count": 21,
   "id": "da05a428",
   "metadata": {},
   "outputs": [
    {
     "data": {
      "text/html": [
       "<div>\n",
       "<style scoped>\n",
       "    .dataframe tbody tr th:only-of-type {\n",
       "        vertical-align: middle;\n",
       "    }\n",
       "\n",
       "    .dataframe tbody tr th {\n",
       "        vertical-align: top;\n",
       "    }\n",
       "\n",
       "    .dataframe thead th {\n",
       "        text-align: right;\n",
       "    }\n",
       "</style>\n",
       "<table border=\"1\" class=\"dataframe\">\n",
       "  <thead>\n",
       "    <tr style=\"text-align: right;\">\n",
       "      <th></th>\n",
       "      <th>CreditScore</th>\n",
       "      <th>Gender</th>\n",
       "      <th>Age</th>\n",
       "      <th>Tenure</th>\n",
       "      <th>Balance</th>\n",
       "      <th>NumOfProducts</th>\n",
       "      <th>HasCrCard</th>\n",
       "      <th>IsActiveMember</th>\n",
       "      <th>EstimatedSalary</th>\n",
       "      <th>Exited</th>\n",
       "      <th>Geography_France</th>\n",
       "      <th>Geography_Germany</th>\n",
       "      <th>Geography_Spain</th>\n",
       "    </tr>\n",
       "  </thead>\n",
       "  <tbody>\n",
       "    <tr>\n",
       "      <th>9141</th>\n",
       "      <td>850</td>\n",
       "      <td>0</td>\n",
       "      <td>43</td>\n",
       "      <td>8</td>\n",
       "      <td>92244.83</td>\n",
       "      <td>2</td>\n",
       "      <td>1</td>\n",
       "      <td>0</td>\n",
       "      <td>54949.73</td>\n",
       "      <td>0</td>\n",
       "      <td>0</td>\n",
       "      <td>1</td>\n",
       "      <td>0</td>\n",
       "    </tr>\n",
       "    <tr>\n",
       "      <th>5128</th>\n",
       "      <td>508</td>\n",
       "      <td>0</td>\n",
       "      <td>38</td>\n",
       "      <td>3</td>\n",
       "      <td>166328.65</td>\n",
       "      <td>2</td>\n",
       "      <td>0</td>\n",
       "      <td>1</td>\n",
       "      <td>22614.19</td>\n",
       "      <td>0</td>\n",
       "      <td>1</td>\n",
       "      <td>0</td>\n",
       "      <td>0</td>\n",
       "    </tr>\n",
       "    <tr>\n",
       "      <th>3657</th>\n",
       "      <td>731</td>\n",
       "      <td>1</td>\n",
       "      <td>30</td>\n",
       "      <td>7</td>\n",
       "      <td>0.00</td>\n",
       "      <td>2</td>\n",
       "      <td>1</td>\n",
       "      <td>1</td>\n",
       "      <td>184581.68</td>\n",
       "      <td>0</td>\n",
       "      <td>1</td>\n",
       "      <td>0</td>\n",
       "      <td>0</td>\n",
       "    </tr>\n",
       "    <tr>\n",
       "      <th>7205</th>\n",
       "      <td>683</td>\n",
       "      <td>0</td>\n",
       "      <td>29</td>\n",
       "      <td>9</td>\n",
       "      <td>0.00</td>\n",
       "      <td>2</td>\n",
       "      <td>1</td>\n",
       "      <td>1</td>\n",
       "      <td>48849.89</td>\n",
       "      <td>0</td>\n",
       "      <td>1</td>\n",
       "      <td>0</td>\n",
       "      <td>0</td>\n",
       "    </tr>\n",
       "    <tr>\n",
       "      <th>711</th>\n",
       "      <td>634</td>\n",
       "      <td>1</td>\n",
       "      <td>35</td>\n",
       "      <td>6</td>\n",
       "      <td>116269.01</td>\n",
       "      <td>1</td>\n",
       "      <td>1</td>\n",
       "      <td>0</td>\n",
       "      <td>129964.94</td>\n",
       "      <td>0</td>\n",
       "      <td>0</td>\n",
       "      <td>1</td>\n",
       "      <td>0</td>\n",
       "    </tr>\n",
       "  </tbody>\n",
       "</table>\n",
       "</div>"
      ],
      "text/plain": [
       "      CreditScore  Gender  Age  Tenure    Balance  NumOfProducts  HasCrCard  \\\n",
       "9141          850       0   43       8   92244.83              2          1   \n",
       "5128          508       0   38       3  166328.65              2          0   \n",
       "3657          731       1   30       7       0.00              2          1   \n",
       "7205          683       0   29       9       0.00              2          1   \n",
       "711           634       1   35       6  116269.01              1          1   \n",
       "\n",
       "      IsActiveMember  EstimatedSalary  Exited  Geography_France  \\\n",
       "9141               0         54949.73       0                 0   \n",
       "5128               1         22614.19       0                 1   \n",
       "3657               1        184581.68       0                 1   \n",
       "7205               1         48849.89       0                 1   \n",
       "711                0        129964.94       0                 0   \n",
       "\n",
       "      Geography_Germany  Geography_Spain  \n",
       "9141                  1                0  \n",
       "5128                  0                0  \n",
       "3657                  0                0  \n",
       "7205                  0                0  \n",
       "711                   1                0  "
      ]
     },
     "execution_count": 21,
     "metadata": {},
     "output_type": "execute_result"
    }
   ],
   "source": [
    "df2.sample(5)"
   ]
  },
  {
   "cell_type": "code",
   "execution_count": 22,
   "id": "bdc337d9",
   "metadata": {},
   "outputs": [],
   "source": [
    "X = df2.drop('Exited',axis='columns')\n",
    "y = df2['Exited']\n",
    "\n",
    "from sklearn.model_selection import train_test_split\n",
    "X_train, X_test, y_train, y_test = train_test_split(X,y,test_size=0.2,random_state=5)"
   ]
  },
  {
   "cell_type": "code",
   "execution_count": 23,
   "id": "3aa91fc5",
   "metadata": {},
   "outputs": [
    {
     "data": {
      "text/plain": [
       "(8000, 12)"
      ]
     },
     "execution_count": 23,
     "metadata": {},
     "output_type": "execute_result"
    }
   ],
   "source": [
    "X_train.shape"
   ]
  },
  {
   "cell_type": "code",
   "execution_count": 24,
   "id": "5775706d",
   "metadata": {},
   "outputs": [],
   "source": [
    "cols_to_scale = ['CreditScore','Age','Tenure', 'Balance', 'NumOfProducts', 'EstimatedSalary']\n",
    "r\n",
    "from sklearn.preprocessing import MinMaxScaler\n",
    "scaler = MinMaxScaler()\n",
    "X_train[cols_to_scale] = scaler.fit_transform(X_train[cols_to_scale] )\n",
    "X_test[cols_to_scale] = scaler.fit_transform(X_test[cols_to_scale])"
   ]
  },
  {
   "cell_type": "code",
   "execution_count": 25,
   "id": "68c9caca",
   "metadata": {},
   "outputs": [
    {
     "name": "stderr",
     "output_type": "stream",
     "text": [
      "2022-07-20 14:16:04.242859: I tensorflow/core/platform/cpu_feature_guard.cc:142] This TensorFlow binary is optimized with oneAPI Deep Neural Network Library (oneDNN) to use the following CPU instructions in performance-critical operations:  AVX2 FMA\n",
      "To enable them in other operations, rebuild TensorFlow with the appropriate compiler flags.\n",
      "2022-07-20 14:16:04.314681: I tensorflow/compiler/mlir/mlir_graph_optimization_pass.cc:176] None of the MLIR Optimization Passes are enabled (registered 2)\n"
     ]
    },
    {
     "name": "stdout",
     "output_type": "stream",
     "text": [
      "Epoch 1/100\n",
      "250/250 [==============================] - 1s 930us/step - loss: 0.5173 - accuracy: 0.7801\n",
      "Epoch 2/100\n",
      "250/250 [==============================] - 0s 796us/step - loss: 0.4525 - accuracy: 0.8041\n",
      "Epoch 3/100\n",
      "250/250 [==============================] - 0s 856us/step - loss: 0.4332 - accuracy: 0.8123\n",
      "Epoch 4/100\n",
      "250/250 [==============================] - 0s 800us/step - loss: 0.4169 - accuracy: 0.8183\n",
      "Epoch 5/100\n",
      "250/250 [==============================] - 0s 786us/step - loss: 0.4010 - accuracy: 0.8255\n",
      "Epoch 6/100\n",
      "250/250 [==============================] - 0s 791us/step - loss: 0.3862 - accuracy: 0.8334\n",
      "Epoch 7/100\n",
      "250/250 [==============================] - 0s 865us/step - loss: 0.3742 - accuracy: 0.8385\n",
      "Epoch 8/100\n",
      "250/250 [==============================] - 0s 795us/step - loss: 0.3662 - accuracy: 0.8416\n",
      "Epoch 9/100\n",
      "250/250 [==============================] - 0s 857us/step - loss: 0.3611 - accuracy: 0.8454\n",
      "Epoch 10/100\n",
      "250/250 [==============================] - 0s 823us/step - loss: 0.3578 - accuracy: 0.8489\n",
      "Epoch 11/100\n",
      "250/250 [==============================] - 0s 827us/step - loss: 0.3565 - accuracy: 0.8480\n",
      "Epoch 12/100\n",
      "250/250 [==============================] - 0s 757us/step - loss: 0.3543 - accuracy: 0.8512\n",
      "Epoch 13/100\n",
      "250/250 [==============================] - 0s 786us/step - loss: 0.3527 - accuracy: 0.8526\n",
      "Epoch 14/100\n",
      "250/250 [==============================] - 0s 787us/step - loss: 0.3506 - accuracy: 0.8525\n",
      "Epoch 15/100\n",
      "250/250 [==============================] - 0s 780us/step - loss: 0.3486 - accuracy: 0.8539\n",
      "Epoch 16/100\n",
      "250/250 [==============================] - 0s 762us/step - loss: 0.3478 - accuracy: 0.8556\n",
      "Epoch 17/100\n",
      "250/250 [==============================] - 0s 791us/step - loss: 0.3464 - accuracy: 0.8551\n",
      "Epoch 18/100\n",
      "250/250 [==============================] - 0s 929us/step - loss: 0.3452 - accuracy: 0.8566\n",
      "Epoch 19/100\n",
      "250/250 [==============================] - 0s 774us/step - loss: 0.3447 - accuracy: 0.8575\n",
      "Epoch 20/100\n",
      "250/250 [==============================] - 0s 779us/step - loss: 0.3433 - accuracy: 0.8576\n",
      "Epoch 21/100\n",
      "250/250 [==============================] - 0s 777us/step - loss: 0.3418 - accuracy: 0.8589\n",
      "Epoch 22/100\n",
      "250/250 [==============================] - 0s 801us/step - loss: 0.3409 - accuracy: 0.8612\n",
      "Epoch 23/100\n",
      "250/250 [==============================] - 0s 765us/step - loss: 0.3407 - accuracy: 0.8586\n",
      "Epoch 24/100\n",
      "250/250 [==============================] - 0s 941us/step - loss: 0.3396 - accuracy: 0.8597\n",
      "Epoch 25/100\n",
      "250/250 [==============================] - 0s 859us/step - loss: 0.3388 - accuracy: 0.8593\n",
      "Epoch 26/100\n",
      "250/250 [==============================] - 0s 793us/step - loss: 0.3374 - accuracy: 0.8583\n",
      "Epoch 27/100\n",
      "250/250 [==============================] - 0s 825us/step - loss: 0.3373 - accuracy: 0.8615\n",
      "Epoch 28/100\n",
      "250/250 [==============================] - 0s 800us/step - loss: 0.3369 - accuracy: 0.8637\n",
      "Epoch 29/100\n",
      "250/250 [==============================] - 0s 768us/step - loss: 0.3362 - accuracy: 0.8602\n",
      "Epoch 30/100\n",
      "250/250 [==============================] - 0s 770us/step - loss: 0.3373 - accuracy: 0.8611\n",
      "Epoch 31/100\n",
      "250/250 [==============================] - 0s 771us/step - loss: 0.3359 - accuracy: 0.8621\n",
      "Epoch 32/100\n",
      "250/250 [==============================] - 0s 771us/step - loss: 0.3354 - accuracy: 0.8604\n",
      "Epoch 33/100\n",
      "250/250 [==============================] - 0s 772us/step - loss: 0.3360 - accuracy: 0.8610\n",
      "Epoch 34/100\n",
      "250/250 [==============================] - 0s 762us/step - loss: 0.3353 - accuracy: 0.8621\n",
      "Epoch 35/100\n",
      "250/250 [==============================] - 0s 760us/step - loss: 0.3343 - accuracy: 0.8625\n",
      "Epoch 36/100\n",
      "250/250 [==============================] - 0s 776us/step - loss: 0.3343 - accuracy: 0.8629\n",
      "Epoch 37/100\n",
      "250/250 [==============================] - 0s 768us/step - loss: 0.3337 - accuracy: 0.8625\n",
      "Epoch 38/100\n",
      "250/250 [==============================] - 0s 804us/step - loss: 0.3332 - accuracy: 0.8637\n",
      "Epoch 39/100\n",
      "250/250 [==============================] - 0s 780us/step - loss: 0.3339 - accuracy: 0.8612\n",
      "Epoch 40/100\n",
      "250/250 [==============================] - 0s 900us/step - loss: 0.3329 - accuracy: 0.8635\n",
      "Epoch 41/100\n",
      "250/250 [==============================] - 0s 775us/step - loss: 0.3331 - accuracy: 0.8625\n",
      "Epoch 42/100\n",
      "250/250 [==============================] - 0s 789us/step - loss: 0.3322 - accuracy: 0.8641\n",
      "Epoch 43/100\n",
      "250/250 [==============================] - 0s 790us/step - loss: 0.3329 - accuracy: 0.8630\n",
      "Epoch 44/100\n",
      "250/250 [==============================] - 0s 764us/step - loss: 0.3320 - accuracy: 0.8634\n",
      "Epoch 45/100\n",
      "250/250 [==============================] - 0s 764us/step - loss: 0.3316 - accuracy: 0.8611\n",
      "Epoch 46/100\n",
      "250/250 [==============================] - 0s 778us/step - loss: 0.3317 - accuracy: 0.8651\n",
      "Epoch 47/100\n",
      "250/250 [==============================] - 0s 764us/step - loss: 0.3317 - accuracy: 0.8634\n",
      "Epoch 48/100\n",
      "250/250 [==============================] - 0s 767us/step - loss: 0.3319 - accuracy: 0.8633\n",
      "Epoch 49/100\n",
      "250/250 [==============================] - 0s 783us/step - loss: 0.3305 - accuracy: 0.8641\n",
      "Epoch 50/100\n",
      "250/250 [==============================] - 0s 799us/step - loss: 0.3291 - accuracy: 0.8656\n",
      "Epoch 51/100\n",
      "250/250 [==============================] - 0s 775us/step - loss: 0.3305 - accuracy: 0.8640\n",
      "Epoch 52/100\n",
      "250/250 [==============================] - 0s 763us/step - loss: 0.3301 - accuracy: 0.8643\n",
      "Epoch 53/100\n",
      "250/250 [==============================] - 0s 761us/step - loss: 0.3289 - accuracy: 0.8646\n",
      "Epoch 54/100\n",
      "250/250 [==============================] - 0s 763us/step - loss: 0.3289 - accuracy: 0.8654\n",
      "Epoch 55/100\n",
      "250/250 [==============================] - 0s 779us/step - loss: 0.3293 - accuracy: 0.8639\n",
      "Epoch 56/100\n",
      "250/250 [==============================] - 0s 751us/step - loss: 0.3296 - accuracy: 0.8641\n",
      "Epoch 57/100\n",
      "250/250 [==============================] - 0s 755us/step - loss: 0.3283 - accuracy: 0.8643\n",
      "Epoch 58/100\n",
      "250/250 [==============================] - 0s 766us/step - loss: 0.3280 - accuracy: 0.8641\n",
      "Epoch 59/100\n",
      "250/250 [==============================] - 0s 746us/step - loss: 0.3274 - accuracy: 0.8645\n",
      "Epoch 60/100\n",
      "250/250 [==============================] - 0s 764us/step - loss: 0.3273 - accuracy: 0.8661\n",
      "Epoch 61/100\n",
      "250/250 [==============================] - 0s 731us/step - loss: 0.3273 - accuracy: 0.8656\n",
      "Epoch 62/100\n",
      "250/250 [==============================] - 0s 761us/step - loss: 0.3269 - accuracy: 0.8669\n",
      "Epoch 63/100\n",
      "250/250 [==============================] - 0s 774us/step - loss: 0.3271 - accuracy: 0.8644\n",
      "Epoch 64/100\n",
      "250/250 [==============================] - 0s 752us/step - loss: 0.3275 - accuracy: 0.8661\n",
      "Epoch 65/100\n",
      "250/250 [==============================] - 0s 771us/step - loss: 0.3260 - accuracy: 0.8660\n",
      "Epoch 66/100\n",
      "250/250 [==============================] - 0s 773us/step - loss: 0.3270 - accuracy: 0.8656\n",
      "Epoch 67/100\n",
      "250/250 [==============================] - 0s 896us/step - loss: 0.3260 - accuracy: 0.8674\n",
      "Epoch 68/100\n",
      "250/250 [==============================] - 0s 791us/step - loss: 0.3270 - accuracy: 0.8671\n",
      "Epoch 69/100\n",
      "250/250 [==============================] - 0s 791us/step - loss: 0.3261 - accuracy: 0.8668\n",
      "Epoch 70/100\n",
      "250/250 [==============================] - 0s 795us/step - loss: 0.3254 - accuracy: 0.8687\n",
      "Epoch 71/100\n",
      "250/250 [==============================] - 0s 744us/step - loss: 0.3263 - accuracy: 0.8646\n",
      "Epoch 72/100\n",
      "250/250 [==============================] - 0s 770us/step - loss: 0.3258 - accuracy: 0.8671\n",
      "Epoch 73/100\n",
      "250/250 [==============================] - 0s 773us/step - loss: 0.3250 - accuracy: 0.8650\n",
      "Epoch 74/100\n",
      "250/250 [==============================] - 0s 738us/step - loss: 0.3254 - accuracy: 0.8684\n",
      "Epoch 75/100\n",
      "250/250 [==============================] - 0s 773us/step - loss: 0.3255 - accuracy: 0.8664\n",
      "Epoch 76/100\n",
      "250/250 [==============================] - 0s 759us/step - loss: 0.3258 - accuracy: 0.8640\n",
      "Epoch 77/100\n",
      "250/250 [==============================] - 0s 748us/step - loss: 0.3245 - accuracy: 0.8665\n",
      "Epoch 78/100\n",
      "250/250 [==============================] - 0s 753us/step - loss: 0.3243 - accuracy: 0.8661\n",
      "Epoch 79/100\n",
      "250/250 [==============================] - 0s 752us/step - loss: 0.3231 - accuracy: 0.8670\n",
      "Epoch 80/100\n",
      "250/250 [==============================] - 0s 732us/step - loss: 0.3234 - accuracy: 0.8664\n",
      "Epoch 81/100\n",
      "250/250 [==============================] - 0s 735us/step - loss: 0.3247 - accuracy: 0.8683\n",
      "Epoch 82/100\n",
      "250/250 [==============================] - 0s 734us/step - loss: 0.3242 - accuracy: 0.8666\n",
      "Epoch 83/100\n",
      "250/250 [==============================] - 0s 744us/step - loss: 0.3231 - accuracy: 0.8656\n",
      "Epoch 84/100\n",
      "250/250 [==============================] - 0s 746us/step - loss: 0.3244 - accuracy: 0.8669\n",
      "Epoch 85/100\n",
      "250/250 [==============================] - 0s 735us/step - loss: 0.3227 - accuracy: 0.8685\n",
      "Epoch 86/100\n",
      "250/250 [==============================] - 0s 739us/step - loss: 0.3230 - accuracy: 0.8660\n",
      "Epoch 87/100\n",
      "250/250 [==============================] - 0s 734us/step - loss: 0.3234 - accuracy: 0.8664\n",
      "Epoch 88/100\n",
      "250/250 [==============================] - 0s 745us/step - loss: 0.3221 - accuracy: 0.8699\n",
      "Epoch 89/100\n",
      "250/250 [==============================] - 0s 822us/step - loss: 0.3216 - accuracy: 0.8705\n",
      "Epoch 90/100\n",
      "250/250 [==============================] - 0s 832us/step - loss: 0.3223 - accuracy: 0.8690\n",
      "Epoch 91/100\n",
      "250/250 [==============================] - 0s 751us/step - loss: 0.3228 - accuracy: 0.8671\n",
      "Epoch 92/100\n",
      "250/250 [==============================] - 0s 743us/step - loss: 0.3212 - accuracy: 0.8719\n",
      "Epoch 93/100\n",
      "250/250 [==============================] - 0s 740us/step - loss: 0.3219 - accuracy: 0.8689\n",
      "Epoch 94/100\n",
      "250/250 [==============================] - 0s 728us/step - loss: 0.3213 - accuracy: 0.8699\n",
      "Epoch 95/100\n",
      "250/250 [==============================] - 0s 732us/step - loss: 0.3226 - accuracy: 0.8670\n",
      "Epoch 96/100\n",
      "250/250 [==============================] - 0s 744us/step - loss: 0.3214 - accuracy: 0.8686\n",
      "Epoch 97/100\n",
      "250/250 [==============================] - 0s 747us/step - loss: 0.3221 - accuracy: 0.8687\n",
      "Epoch 98/100\n",
      "250/250 [==============================] - 0s 744us/step - loss: 0.3209 - accuracy: 0.8696\n",
      "Epoch 99/100\n",
      "250/250 [==============================] - 0s 737us/step - loss: 0.3208 - accuracy: 0.8695\n",
      "Epoch 100/100\n",
      "250/250 [==============================] - 0s 740us/step - loss: 0.3209 - accuracy: 0.8698\n"
     ]
    },
    {
     "data": {
      "text/plain": [
       "<tensorflow.python.keras.callbacks.History at 0x15c760ca0>"
      ]
     },
     "execution_count": 25,
     "metadata": {},
     "output_type": "execute_result"
    }
   ],
   "source": [
    "import tensorflow as tf\n",
    "from tensorflow import keras\n",
    "\n",
    "\n",
    "model = keras.Sequential([\n",
    "    keras.layers.Dense(20, input_shape=(12,), activation='relu'),\n",
    "    keras.layers.Dense(15, activation='relu'),\n",
    "    keras.layers.Dense(1, activation='sigmoid')\n",
    "])\n",
    "\n",
    "# opt = keras.optimizers.Adam(learning_rate=0.01)\n",
    "\n",
    "model.compile(optimizer='adam',\n",
    "              loss='binary_crossentropy',\n",
    "              metrics=['accuracy'])\n",
    "\n",
    "model.fit(X_train, y_train, epochs=100)"
   ]
  },
  {
   "cell_type": "code",
   "execution_count": 26,
   "id": "a640ebdc",
   "metadata": {},
   "outputs": [
    {
     "name": "stdout",
     "output_type": "stream",
     "text": [
      "63/63 [==============================] - 0s 664us/step - loss: 0.3735 - accuracy: 0.8440\n"
     ]
    },
    {
     "data": {
      "text/plain": [
       "[0.3734508156776428, 0.843999981880188]"
      ]
     },
     "execution_count": 26,
     "metadata": {},
     "output_type": "execute_result"
    }
   ],
   "source": [
    "model.evaluate(X_test, y_test)"
   ]
  },
  {
   "cell_type": "code",
   "execution_count": 27,
   "id": "b7b34768",
   "metadata": {},
   "outputs": [],
   "source": [
    "yp = model.predict(X_test)"
   ]
  },
  {
   "cell_type": "code",
   "execution_count": 28,
   "id": "2809c9d5",
   "metadata": {},
   "outputs": [],
   "source": [
    "y_pred = []\n",
    "for element in yp:\n",
    "    if element > 0.5:\n",
    "        y_pred.append(1)\n",
    "    else:\n",
    "        y_pred.append(0)"
   ]
  },
  {
   "cell_type": "code",
   "execution_count": 29,
   "id": "b67074ef",
   "metadata": {},
   "outputs": [
    {
     "name": "stdout",
     "output_type": "stream",
     "text": [
      "              precision    recall  f1-score   support\n",
      "\n",
      "           0       0.88      0.93      0.90      1595\n",
      "           1       0.64      0.51      0.57       405\n",
      "\n",
      "    accuracy                           0.84      2000\n",
      "   macro avg       0.76      0.72      0.74      2000\n",
      "weighted avg       0.83      0.84      0.84      2000\n",
      "\n"
     ]
    }
   ],
   "source": [
    "from sklearn.metrics import confusion_matrix , classification_report\n",
    "\n",
    "print(classification_report(y_test,y_pred))"
   ]
  },
  {
   "cell_type": "code",
   "execution_count": 30,
   "id": "826a577f",
   "metadata": {},
   "outputs": [
    {
     "data": {
      "text/plain": [
       "Text(66.5, 0.5, 'Truth')"
      ]
     },
     "execution_count": 30,
     "metadata": {},
     "output_type": "execute_result"
    },
    {
     "data": {
      "image/png": "[encoded data removed]",
      "text/plain": [
       "<Figure size 720x504 with 2 Axes>"
      ]
     },
     "metadata": {},
     "output_type": "display_data"
    }
   ],
   "source": [
    "import seaborn as sn\n",
    "cm = tf.math.confusion_matrix(labels=y_test,predictions=y_pred)\n",
    "\n",
    "plt.figure(figsize = (10,7))\n",
    "sn.heatmap(cm, annot=True, fmt='d')\n",
    "plt.xlabel('Predicted')\n",
    "plt.ylabel('Truth')"
   ]
  },
  {
   "cell_type": "code",
   "execution_count": 31,
   "id": "878e3c93",
   "metadata": {},
   "outputs": [],
   "source": [
    "def ANN(X_train, y_train, X_test, y_test):\n",
    "    model = keras.Sequential([\n",
    "    keras.layers.Dense(20, input_shape=(12,), activation='relu'),\n",
    "    keras.layers.Dense(15, activation='relu'),\n",
    "    keras.layers.Dense(1, activation='sigmoid')\n",
    "])\n",
    "\n",
    "# opt = keras.optimizers.Adam(learning_rate=0.01)\n",
    "\n",
    "    model.compile(optimizer='adam',\n",
    "                  loss='binary_crossentropy',\n",
    "                  metrics=['accuracy'])\n",
    "\n",
    "    model.fit(X_train, y_train, epochs=100)\n",
    "    \n",
    "    y_preds = model.predict(X_test)\n",
    "    y_preds = np.round(y_preds)\n",
    "    \n",
    "    print(\"Classification Report: \\n\", classification_report(y_test, y_preds))\n",
    "    \n",
    "    return y_preds"
   ]
  },
  {
   "cell_type": "markdown",
   "id": "c69a6648",
   "metadata": {},
   "source": [
    " # Undersampling"
   ]
  },
  {
   "cell_type": "code",
   "execution_count": 32,
   "id": "06e7c9ca",
   "metadata": {},
   "outputs": [],
   "source": [
    "count_class_0, count_class_1 = df2.Exited.value_counts()\n",
    "\n",
    "# Divide by class\n",
    "df_class_0 = df2[df2['Exited'] == 0]\n",
    "df_class_1 = df2[df2['Exited'] == 1]\n"
   ]
  },
  {
   "cell_type": "code",
   "execution_count": 33,
   "id": "2e1b5464",
   "metadata": {},
   "outputs": [],
   "source": [
    "df_class_0_under = df_class_0.sample(count_class_1)\n",
    "df_test_under = pd.concat([df_class_0_under, df_class_1], axis=0)"
   ]
  },
  {
   "cell_type": "code",
   "execution_count": 34,
   "id": "57e6ca4d",
   "metadata": {},
   "outputs": [
    {
     "data": {
      "text/html": [
       "<div>\n",
       "<style scoped>\n",
       "    .dataframe tbody tr th:only-of-type {\n",
       "        vertical-align: middle;\n",
       "    }\n",
       "\n",
       "    .dataframe tbody tr th {\n",
       "        vertical-align: top;\n",
       "    }\n",
       "\n",
       "    .dataframe thead th {\n",
       "        text-align: right;\n",
       "    }\n",
       "</style>\n",
       "<table border=\"1\" class=\"dataframe\">\n",
       "  <thead>\n",
       "    <tr style=\"text-align: right;\">\n",
       "      <th></th>\n",
       "      <th>CreditScore</th>\n",
       "      <th>Gender</th>\n",
       "      <th>Age</th>\n",
       "      <th>Tenure</th>\n",
       "      <th>Balance</th>\n",
       "      <th>NumOfProducts</th>\n",
       "      <th>HasCrCard</th>\n",
       "      <th>IsActiveMember</th>\n",
       "      <th>EstimatedSalary</th>\n",
       "      <th>Exited</th>\n",
       "      <th>Geography_France</th>\n",
       "      <th>Geography_Germany</th>\n",
       "      <th>Geography_Spain</th>\n",
       "    </tr>\n",
       "  </thead>\n",
       "  <tbody>\n",
       "    <tr>\n",
       "      <th>7335</th>\n",
       "      <td>651</td>\n",
       "      <td>0</td>\n",
       "      <td>41</td>\n",
       "      <td>4</td>\n",
       "      <td>38617.20</td>\n",
       "      <td>1</td>\n",
       "      <td>1</td>\n",
       "      <td>1</td>\n",
       "      <td>104876.80</td>\n",
       "      <td>0</td>\n",
       "      <td>1</td>\n",
       "      <td>0</td>\n",
       "      <td>0</td>\n",
       "    </tr>\n",
       "    <tr>\n",
       "      <th>8974</th>\n",
       "      <td>706</td>\n",
       "      <td>0</td>\n",
       "      <td>43</td>\n",
       "      <td>1</td>\n",
       "      <td>0.00</td>\n",
       "      <td>2</td>\n",
       "      <td>1</td>\n",
       "      <td>0</td>\n",
       "      <td>31962.77</td>\n",
       "      <td>0</td>\n",
       "      <td>0</td>\n",
       "      <td>0</td>\n",
       "      <td>1</td>\n",
       "    </tr>\n",
       "    <tr>\n",
       "      <th>6131</th>\n",
       "      <td>686</td>\n",
       "      <td>1</td>\n",
       "      <td>60</td>\n",
       "      <td>9</td>\n",
       "      <td>0.00</td>\n",
       "      <td>3</td>\n",
       "      <td>1</td>\n",
       "      <td>1</td>\n",
       "      <td>75246.21</td>\n",
       "      <td>1</td>\n",
       "      <td>1</td>\n",
       "      <td>0</td>\n",
       "      <td>0</td>\n",
       "    </tr>\n",
       "    <tr>\n",
       "      <th>440</th>\n",
       "      <td>626</td>\n",
       "      <td>0</td>\n",
       "      <td>35</td>\n",
       "      <td>3</td>\n",
       "      <td>0.00</td>\n",
       "      <td>1</td>\n",
       "      <td>0</td>\n",
       "      <td>0</td>\n",
       "      <td>80190.36</td>\n",
       "      <td>0</td>\n",
       "      <td>1</td>\n",
       "      <td>0</td>\n",
       "      <td>0</td>\n",
       "    </tr>\n",
       "    <tr>\n",
       "      <th>9856</th>\n",
       "      <td>763</td>\n",
       "      <td>0</td>\n",
       "      <td>32</td>\n",
       "      <td>1</td>\n",
       "      <td>108465.65</td>\n",
       "      <td>2</td>\n",
       "      <td>1</td>\n",
       "      <td>0</td>\n",
       "      <td>60552.44</td>\n",
       "      <td>1</td>\n",
       "      <td>0</td>\n",
       "      <td>1</td>\n",
       "      <td>0</td>\n",
       "    </tr>\n",
       "  </tbody>\n",
       "</table>\n",
       "</div>"
      ],
      "text/plain": [
       "      CreditScore  Gender  Age  Tenure    Balance  NumOfProducts  HasCrCard  \\\n",
       "7335          651       0   41       4   38617.20              1          1   \n",
       "8974          706       0   43       1       0.00              2          1   \n",
       "6131          686       1   60       9       0.00              3          1   \n",
       "440           626       0   35       3       0.00              1          0   \n",
       "9856          763       0   32       1  108465.65              2          1   \n",
       "\n",
       "      IsActiveMember  EstimatedSalary  Exited  Geography_France  \\\n",
       "7335               1        104876.80       0                 1   \n",
       "8974               0         31962.77       0                 0   \n",
       "6131               1         75246.21       1                 1   \n",
       "440                0         80190.36       0                 1   \n",
       "9856               0         60552.44       1                 0   \n",
       "\n",
       "      Geography_Germany  Geography_Spain  \n",
       "7335                  0                0  \n",
       "8974                  0                1  \n",
       "6131                  0                0  \n",
       "440                   0                0  \n",
       "9856                  1                0  "
      ]
     },
     "execution_count": 34,
     "metadata": {},
     "output_type": "execute_result"
    }
   ],
   "source": [
    "df_test_under.sample(5)"
   ]
  },
  {
   "cell_type": "code",
   "execution_count": 35,
   "id": "05dcbaa1",
   "metadata": {},
   "outputs": [],
   "source": [
    "X = df_test_under.drop('Exited',axis='columns')\n",
    "y = df_test_under['Exited']\n",
    "\n",
    "from sklearn.model_selection import train_test_split\n",
    "X_train, X_test, y_train, y_test = train_test_split(X, y, test_size=0.2, random_state=15, stratify=y)"
   ]
  },
  {
   "cell_type": "code",
   "execution_count": 36,
   "id": "4b87138e",
   "metadata": {},
   "outputs": [],
   "source": [
    "cols_to_scale = ['CreditScore','Age','Tenure', 'Balance', 'NumOfProducts', 'EstimatedSalary']\n",
    "\n",
    "from sklearn.preprocessing import MinMaxScaler\n",
    "scaler = MinMaxScaler()\n",
    "X_train[cols_to_scale] = scaler.fit_transform(X_train[cols_to_scale] )\n",
    "X_test[cols_to_scale] = scaler.fit_transform(X_test[cols_to_scale])"
   ]
  },
  {
   "cell_type": "code",
   "execution_count": 37,
   "id": "c1eab1e3",
   "metadata": {},
   "outputs": [
    {
     "name": "stdout",
     "output_type": "stream",
     "text": [
      "Epoch 1/100\n",
      "102/102 [==============================] - 0s 847us/step - loss: 0.6819 - accuracy: 0.5704\n",
      "Epoch 2/100\n",
      "102/102 [==============================] - 0s 856us/step - loss: 0.6595 - accuracy: 0.6174\n",
      "Epoch 3/100\n",
      "102/102 [==============================] - 0s 865us/step - loss: 0.6409 - accuracy: 0.6392\n",
      "Epoch 4/100\n",
      "102/102 [==============================] - 0s 859us/step - loss: 0.6260 - accuracy: 0.6545\n",
      "Epoch 5/100\n",
      "102/102 [==============================] - 0s 852us/step - loss: 0.6146 - accuracy: 0.6680\n",
      "Epoch 6/100\n",
      "102/102 [==============================] - 0s 848us/step - loss: 0.6013 - accuracy: 0.6797\n",
      "Epoch 7/100\n",
      "102/102 [==============================] - 0s 825us/step - loss: 0.5830 - accuracy: 0.6901\n",
      "Epoch 8/100\n",
      "102/102 [==============================] - 0s 892us/step - loss: 0.5716 - accuracy: 0.7042\n",
      "Epoch 9/100\n",
      "102/102 [==============================] - 0s 863us/step - loss: 0.5590 - accuracy: 0.7140\n",
      "Epoch 10/100\n",
      "102/102 [==============================] - 0s 831us/step - loss: 0.5491 - accuracy: 0.7183\n",
      "Epoch 11/100\n",
      "102/102 [==============================] - 0s 874us/step - loss: 0.5412 - accuracy: 0.7266\n",
      "Epoch 12/100\n",
      "102/102 [==============================] - 0s 846us/step - loss: 0.5343 - accuracy: 0.7321\n",
      "Epoch 13/100\n",
      "102/102 [==============================] - 0s 828us/step - loss: 0.5257 - accuracy: 0.7413\n",
      "Epoch 14/100\n",
      "102/102 [==============================] - 0s 864us/step - loss: 0.5207 - accuracy: 0.7484\n",
      "Epoch 15/100\n",
      "102/102 [==============================] - 0s 865us/step - loss: 0.5144 - accuracy: 0.7487\n",
      "Epoch 16/100\n",
      "102/102 [==============================] - 0s 833us/step - loss: 0.5095 - accuracy: 0.7512\n",
      "Epoch 17/100\n",
      "102/102 [==============================] - 0s 874us/step - loss: 0.5037 - accuracy: 0.7539\n",
      "Epoch 18/100\n",
      "102/102 [==============================] - 0s 860us/step - loss: 0.5004 - accuracy: 0.7588\n",
      "Epoch 19/100\n",
      "102/102 [==============================] - 0s 873us/step - loss: 0.4959 - accuracy: 0.7600\n",
      "Epoch 20/100\n",
      "102/102 [==============================] - 0s 868us/step - loss: 0.4934 - accuracy: 0.7628\n",
      "Epoch 21/100\n",
      "102/102 [==============================] - 0s 925us/step - loss: 0.4910 - accuracy: 0.7625\n",
      "Epoch 22/100\n",
      "102/102 [==============================] - 0s 981us/step - loss: 0.4902 - accuracy: 0.7619\n",
      "Epoch 23/100\n",
      "102/102 [==============================] - 0s 1ms/step - loss: 0.4871 - accuracy: 0.7680\n",
      "Epoch 24/100\n",
      "102/102 [==============================] - 0s 911us/step - loss: 0.4829 - accuracy: 0.7662\n",
      "Epoch 25/100\n",
      "102/102 [==============================] - 0s 893us/step - loss: 0.4813 - accuracy: 0.7711\n",
      "Epoch 26/100\n",
      "102/102 [==============================] - 0s 885us/step - loss: 0.4820 - accuracy: 0.7699\n",
      "Epoch 27/100\n",
      "102/102 [==============================] - 0s 879us/step - loss: 0.4789 - accuracy: 0.7748\n",
      "Epoch 28/100\n",
      "102/102 [==============================] - 0s 888us/step - loss: 0.4775 - accuracy: 0.7693\n",
      "Epoch 29/100\n",
      "102/102 [==============================] - 0s 897us/step - loss: 0.4779 - accuracy: 0.7680\n",
      "Epoch 30/100\n",
      "102/102 [==============================] - 0s 875us/step - loss: 0.4738 - accuracy: 0.7729\n",
      "Epoch 31/100\n",
      "102/102 [==============================] - 0s 908us/step - loss: 0.4751 - accuracy: 0.7720\n",
      "Epoch 32/100\n",
      "102/102 [==============================] - 0s 950us/step - loss: 0.4725 - accuracy: 0.7766\n",
      "Epoch 33/100\n",
      "102/102 [==============================] - 0s 928us/step - loss: 0.4717 - accuracy: 0.7766\n",
      "Epoch 34/100\n",
      "102/102 [==============================] - 0s 900us/step - loss: 0.4700 - accuracy: 0.7757\n",
      "Epoch 35/100\n",
      "102/102 [==============================] - 0s 909us/step - loss: 0.4699 - accuracy: 0.7742\n",
      "Epoch 36/100\n",
      "102/102 [==============================] - 0s 878us/step - loss: 0.4687 - accuracy: 0.7760\n",
      "Epoch 37/100\n",
      "102/102 [==============================] - 0s 978us/step - loss: 0.4680 - accuracy: 0.7748\n",
      "Epoch 38/100\n",
      "102/102 [==============================] - 0s 937us/step - loss: 0.4653 - accuracy: 0.7723\n",
      "Epoch 39/100\n",
      "102/102 [==============================] - 0s 918us/step - loss: 0.4661 - accuracy: 0.7760\n",
      "Epoch 40/100\n",
      "102/102 [==============================] - 0s 890us/step - loss: 0.4647 - accuracy: 0.7785\n",
      "Epoch 41/100\n",
      "102/102 [==============================] - 0s 965us/step - loss: 0.4632 - accuracy: 0.7742\n",
      "Epoch 42/100\n",
      "102/102 [==============================] - 0s 955us/step - loss: 0.4631 - accuracy: 0.7821\n",
      "Epoch 43/100\n",
      "102/102 [==============================] - 0s 894us/step - loss: 0.4620 - accuracy: 0.7766\n",
      "Epoch 44/100\n",
      "102/102 [==============================] - 0s 976us/step - loss: 0.4618 - accuracy: 0.7791\n",
      "Epoch 45/100\n",
      "102/102 [==============================] - 0s 1ms/step - loss: 0.4603 - accuracy: 0.7815\n",
      "Epoch 46/100\n",
      "102/102 [==============================] - 0s 1ms/step - loss: 0.4607 - accuracy: 0.7824\n",
      "Epoch 47/100\n",
      "102/102 [==============================] - 0s 1ms/step - loss: 0.4596 - accuracy: 0.7821\n",
      "Epoch 48/100\n",
      "102/102 [==============================] - 0s 833us/step - loss: 0.4591 - accuracy: 0.7852\n",
      "Epoch 49/100\n",
      "102/102 [==============================] - 0s 829us/step - loss: 0.4577 - accuracy: 0.7828\n",
      "Epoch 50/100\n",
      "102/102 [==============================] - 0s 863us/step - loss: 0.4581 - accuracy: 0.7782\n",
      "Epoch 51/100\n",
      "102/102 [==============================] - 0s 916us/step - loss: 0.4566 - accuracy: 0.7843\n",
      "Epoch 52/100\n",
      "102/102 [==============================] - 0s 919us/step - loss: 0.4571 - accuracy: 0.7824\n",
      "Epoch 53/100\n",
      "102/102 [==============================] - 0s 885us/step - loss: 0.4556 - accuracy: 0.7806\n",
      "Epoch 54/100\n",
      "102/102 [==============================] - 0s 862us/step - loss: 0.4556 - accuracy: 0.7837\n",
      "Epoch 55/100\n",
      "102/102 [==============================] - 0s 875us/step - loss: 0.4558 - accuracy: 0.7834\n",
      "Epoch 56/100\n",
      "102/102 [==============================] - 0s 895us/step - loss: 0.4532 - accuracy: 0.7867\n",
      "Epoch 57/100\n",
      "102/102 [==============================] - 0s 857us/step - loss: 0.4531 - accuracy: 0.7809\n",
      "Epoch 58/100\n",
      "102/102 [==============================] - 0s 805us/step - loss: 0.4546 - accuracy: 0.7821\n",
      "Epoch 59/100\n",
      "102/102 [==============================] - 0s 827us/step - loss: 0.4551 - accuracy: 0.7849\n",
      "Epoch 60/100\n",
      "102/102 [==============================] - 0s 827us/step - loss: 0.4534 - accuracy: 0.7864\n",
      "Epoch 61/100\n",
      "102/102 [==============================] - 0s 892us/step - loss: 0.4506 - accuracy: 0.7883\n",
      "Epoch 62/100\n",
      "102/102 [==============================] - 0s 896us/step - loss: 0.4518 - accuracy: 0.7895\n",
      "Epoch 63/100\n",
      "102/102 [==============================] - 0s 862us/step - loss: 0.4522 - accuracy: 0.7855\n",
      "Epoch 64/100\n",
      "102/102 [==============================] - 0s 807us/step - loss: 0.4515 - accuracy: 0.7861\n",
      "Epoch 65/100\n",
      "102/102 [==============================] - 0s 797us/step - loss: 0.4511 - accuracy: 0.7840\n",
      "Epoch 66/100\n",
      "102/102 [==============================] - 0s 865us/step - loss: 0.4505 - accuracy: 0.7867\n",
      "Epoch 67/100\n",
      "102/102 [==============================] - 0s 879us/step - loss: 0.4489 - accuracy: 0.7874\n",
      "Epoch 68/100\n",
      "102/102 [==============================] - 0s 940us/step - loss: 0.4497 - accuracy: 0.7846\n",
      "Epoch 69/100\n",
      "102/102 [==============================] - 0s 926us/step - loss: 0.4494 - accuracy: 0.7898\n",
      "Epoch 70/100\n",
      "102/102 [==============================] - 0s 808us/step - loss: 0.4494 - accuracy: 0.7877\n",
      "Epoch 71/100\n",
      "102/102 [==============================] - 0s 828us/step - loss: 0.4480 - accuracy: 0.7846\n",
      "Epoch 72/100\n",
      "102/102 [==============================] - 0s 834us/step - loss: 0.4498 - accuracy: 0.7886\n",
      "Epoch 73/100\n",
      "102/102 [==============================] - 0s 800us/step - loss: 0.4494 - accuracy: 0.7874\n",
      "Epoch 74/100\n",
      "102/102 [==============================] - 0s 938us/step - loss: 0.4488 - accuracy: 0.7852\n",
      "Epoch 75/100\n",
      "102/102 [==============================] - 0s 943us/step - loss: 0.4470 - accuracy: 0.7898\n",
      "Epoch 76/100\n",
      "102/102 [==============================] - 0s 858us/step - loss: 0.4485 - accuracy: 0.7864\n",
      "Epoch 77/100\n",
      "102/102 [==============================] - 0s 823us/step - loss: 0.4469 - accuracy: 0.7898\n",
      "Epoch 78/100\n",
      "102/102 [==============================] - 0s 824us/step - loss: 0.4503 - accuracy: 0.7852\n",
      "Epoch 79/100\n",
      "102/102 [==============================] - 0s 821us/step - loss: 0.4457 - accuracy: 0.7880\n",
      "Epoch 80/100\n",
      "102/102 [==============================] - 0s 837us/step - loss: 0.4496 - accuracy: 0.7877\n",
      "Epoch 81/100\n",
      "102/102 [==============================] - 0s 810us/step - loss: 0.4463 - accuracy: 0.7846\n",
      "Epoch 82/100\n",
      "102/102 [==============================] - 0s 839us/step - loss: 0.4472 - accuracy: 0.7877\n",
      "Epoch 83/100\n",
      "102/102 [==============================] - 0s 1ms/step - loss: 0.4469 - accuracy: 0.7846\n",
      "Epoch 84/100\n",
      "102/102 [==============================] - 0s 908us/step - loss: 0.4459 - accuracy: 0.7907\n",
      "Epoch 85/100\n",
      "102/102 [==============================] - 0s 883us/step - loss: 0.4446 - accuracy: 0.7929\n",
      "Epoch 86/100\n",
      "102/102 [==============================] - 0s 791us/step - loss: 0.4440 - accuracy: 0.7926\n",
      "Epoch 87/100\n",
      "102/102 [==============================] - 0s 811us/step - loss: 0.4447 - accuracy: 0.7913\n",
      "Epoch 88/100\n",
      "102/102 [==============================] - 0s 829us/step - loss: 0.4448 - accuracy: 0.7904\n",
      "Epoch 89/100\n",
      "102/102 [==============================] - 0s 984us/step - loss: 0.4432 - accuracy: 0.7932\n",
      "Epoch 90/100\n",
      "102/102 [==============================] - 0s 925us/step - loss: 0.4437 - accuracy: 0.7920\n",
      "Epoch 91/100\n",
      "102/102 [==============================] - 0s 898us/step - loss: 0.4437 - accuracy: 0.7904\n",
      "Epoch 92/100\n",
      "102/102 [==============================] - 0s 965us/step - loss: 0.4431 - accuracy: 0.7852\n",
      "Epoch 93/100\n",
      "102/102 [==============================] - 0s 815us/step - loss: 0.4439 - accuracy: 0.7892\n",
      "Epoch 94/100\n",
      "102/102 [==============================] - 0s 778us/step - loss: 0.4423 - accuracy: 0.7938\n",
      "Epoch 95/100\n",
      "102/102 [==============================] - 0s 820us/step - loss: 0.4416 - accuracy: 0.7929\n",
      "Epoch 96/100\n",
      "102/102 [==============================] - 0s 826us/step - loss: 0.4424 - accuracy: 0.7892\n",
      "Epoch 97/100\n",
      "102/102 [==============================] - 0s 901us/step - loss: 0.4420 - accuracy: 0.7932\n",
      "Epoch 98/100\n",
      "102/102 [==============================] - 0s 884us/step - loss: 0.4411 - accuracy: 0.7944\n",
      "Epoch 99/100\n",
      "102/102 [==============================] - 0s 854us/step - loss: 0.4415 - accuracy: 0.7871\n",
      "Epoch 100/100\n",
      "102/102 [==============================] - 0s 877us/step - loss: 0.4402 - accuracy: 0.7901\n",
      "Classification Report: \n",
      "               precision    recall  f1-score   support\n",
      "\n",
      "           0       0.76      0.73      0.74       408\n",
      "           1       0.74      0.77      0.75       407\n",
      "\n",
      "    accuracy                           0.75       815\n",
      "   macro avg       0.75      0.75      0.75       815\n",
      "weighted avg       0.75      0.75      0.75       815\n",
      "\n"
     ]
    }
   ],
   "source": [
    "y_preds = ANN(X_train, y_train, X_test, y_test)"
   ]
  },
  {
   "cell_type": "markdown",
   "id": "9dcd459f",
   "metadata": {},
   "source": [
    "# Oversampling"
   ]
  },
  {
   "cell_type": "code",
   "execution_count": 38,
   "id": "16b876d6",
   "metadata": {},
   "outputs": [],
   "source": [
    "df_class_1_over = df_class_1.sample(count_class_0, replace=True)\n",
    "df_test_over = pd.concat([df_class_0, df_class_1_over], axis=0)"
   ]
  },
  {
   "cell_type": "code",
   "execution_count": 39,
   "id": "5ff0604b",
   "metadata": {},
   "outputs": [
    {
     "name": "stdout",
     "output_type": "stream",
     "text": [
      "0    7963\n",
      "1    7963\n",
      "Name: Exited, dtype: int64\n"
     ]
    }
   ],
   "source": [
    "print(df_test_over.Exited.value_counts())"
   ]
  },
  {
   "cell_type": "code",
   "execution_count": 40,
   "id": "0182a6de",
   "metadata": {},
   "outputs": [],
   "source": [
    "X = df_test_over.drop('Exited',axis='columns')\n",
    "y = df_test_over['Exited']\n",
    "\n",
    "from sklearn.model_selection import train_test_split\n",
    "X_train, X_test, y_train, y_test = train_test_split(X, y, test_size=0.2, random_state=15, stratify=y)"
   ]
  },
  {
   "cell_type": "code",
   "execution_count": 41,
   "id": "9879d981",
   "metadata": {},
   "outputs": [],
   "source": [
    "cols_to_scale = ['CreditScore','Age','Tenure', 'Balance', 'NumOfProducts', 'EstimatedSalary']\n",
    "\n",
    "from sklearn.preprocessing import MinMaxScaler\n",
    "scaler = MinMaxScaler()\n",
    "X_train[cols_to_scale] = scaler.fit_transform(X_train[cols_to_scale] )\n",
    "X_test[cols_to_scale] = scaler.fit_transform(X_test[cols_to_scale])"
   ]
  },
  {
   "cell_type": "code",
   "execution_count": 42,
   "id": "53f572a5",
   "metadata": {},
   "outputs": [
    {
     "name": "stdout",
     "output_type": "stream",
     "text": [
      "Epoch 1/100\n",
      "399/399 [==============================] - 1s 804us/step - loss: 0.6517 - accuracy: 0.6146\n",
      "Epoch 2/100\n",
      "399/399 [==============================] - 0s 869us/step - loss: 0.5955 - accuracy: 0.6750\n",
      "Epoch 3/100\n",
      "399/399 [==============================] - 0s 831us/step - loss: 0.5686 - accuracy: 0.7040\n",
      "Epoch 4/100\n",
      "399/399 [==============================] - 0s 859us/step - loss: 0.5430 - accuracy: 0.7257\n",
      "Epoch 5/100\n",
      "399/399 [==============================] - 0s 890us/step - loss: 0.5160 - accuracy: 0.7529\n",
      "Epoch 6/100\n",
      "399/399 [==============================] - 0s 875us/step - loss: 0.4983 - accuracy: 0.7651\n",
      "Epoch 7/100\n",
      "399/399 [==============================] - 0s 867us/step - loss: 0.4909 - accuracy: 0.7659\n",
      "Epoch 8/100\n",
      "399/399 [==============================] - 0s 850us/step - loss: 0.4862 - accuracy: 0.7680\n",
      "Epoch 9/100\n",
      "399/399 [==============================] - 0s 805us/step - loss: 0.4839 - accuracy: 0.7668\n",
      "Epoch 10/100\n",
      "399/399 [==============================] - 0s 833us/step - loss: 0.4827 - accuracy: 0.7685\n",
      "Epoch 11/100\n",
      "399/399 [==============================] - 0s 832us/step - loss: 0.4798 - accuracy: 0.7694\n",
      "Epoch 12/100\n",
      "399/399 [==============================] - 0s 823us/step - loss: 0.4772 - accuracy: 0.7733\n",
      "Epoch 13/100\n",
      "399/399 [==============================] - 0s 829us/step - loss: 0.4756 - accuracy: 0.7720\n",
      "Epoch 14/100\n",
      "399/399 [==============================] - 0s 830us/step - loss: 0.4754 - accuracy: 0.7702\n",
      "Epoch 15/100\n",
      "399/399 [==============================] - 0s 949us/step - loss: 0.4721 - accuracy: 0.7738\n",
      "Epoch 16/100\n",
      "399/399 [==============================] - 0s 890us/step - loss: 0.4701 - accuracy: 0.7743\n",
      "Epoch 17/100\n",
      "399/399 [==============================] - 0s 817us/step - loss: 0.4694 - accuracy: 0.7743\n",
      "Epoch 18/100\n",
      "399/399 [==============================] - 0s 852us/step - loss: 0.4672 - accuracy: 0.7761\n",
      "Epoch 19/100\n",
      "399/399 [==============================] - 0s 831us/step - loss: 0.4654 - accuracy: 0.7746\n",
      "Epoch 20/100\n",
      "399/399 [==============================] - 0s 825us/step - loss: 0.4638 - accuracy: 0.7748\n",
      "Epoch 21/100\n",
      "399/399 [==============================] - 0s 857us/step - loss: 0.4612 - accuracy: 0.7784\n",
      "Epoch 22/100\n",
      "399/399 [==============================] - 0s 843us/step - loss: 0.4595 - accuracy: 0.7777\n",
      "Epoch 23/100\n",
      "399/399 [==============================] - 0s 850us/step - loss: 0.4588 - accuracy: 0.7775\n",
      "Epoch 24/100\n",
      "399/399 [==============================] - 0s 922us/step - loss: 0.4573 - accuracy: 0.7790\n",
      "Epoch 25/100\n",
      "399/399 [==============================] - 0s 867us/step - loss: 0.4560 - accuracy: 0.7797\n",
      "Epoch 26/100\n",
      "399/399 [==============================] - 0s 849us/step - loss: 0.4549 - accuracy: 0.7810\n",
      "Epoch 27/100\n",
      "399/399 [==============================] - 0s 834us/step - loss: 0.4526 - accuracy: 0.7816\n",
      "Epoch 28/100\n",
      "399/399 [==============================] - 0s 876us/step - loss: 0.4541 - accuracy: 0.7816\n",
      "Epoch 29/100\n",
      "399/399 [==============================] - 0s 836us/step - loss: 0.4523 - accuracy: 0.7819\n",
      "Epoch 30/100\n",
      "399/399 [==============================] - 0s 833us/step - loss: 0.4521 - accuracy: 0.7830\n",
      "Epoch 31/100\n",
      "399/399 [==============================] - 0s 900us/step - loss: 0.4502 - accuracy: 0.7835\n",
      "Epoch 32/100\n",
      "399/399 [==============================] - 0s 850us/step - loss: 0.4490 - accuracy: 0.7863\n",
      "Epoch 33/100\n",
      "399/399 [==============================] - 0s 827us/step - loss: 0.4494 - accuracy: 0.7843\n",
      "Epoch 34/100\n",
      "399/399 [==============================] - 0s 847us/step - loss: 0.4484 - accuracy: 0.7830\n",
      "Epoch 35/100\n",
      "399/399 [==============================] - 0s 881us/step - loss: 0.4470 - accuracy: 0.7863\n",
      "Epoch 36/100\n",
      "399/399 [==============================] - 0s 848us/step - loss: 0.4464 - accuracy: 0.7853\n",
      "Epoch 37/100\n",
      "399/399 [==============================] - 0s 844us/step - loss: 0.4462 - accuracy: 0.7865\n",
      "Epoch 38/100\n",
      "399/399 [==============================] - 0s 897us/step - loss: 0.4468 - accuracy: 0.7838\n",
      "Epoch 39/100\n",
      "399/399 [==============================] - 0s 851us/step - loss: 0.4456 - accuracy: 0.7853\n",
      "Epoch 40/100\n",
      "399/399 [==============================] - 0s 1ms/step - loss: 0.4443 - accuracy: 0.7880\n",
      "Epoch 41/100\n",
      "399/399 [==============================] - 0s 825us/step - loss: 0.4443 - accuracy: 0.7870\n",
      "Epoch 42/100\n",
      "399/399 [==============================] - 0s 828us/step - loss: 0.4431 - accuracy: 0.7894\n",
      "Epoch 43/100\n",
      "399/399 [==============================] - 0s 887us/step - loss: 0.4432 - accuracy: 0.7867\n",
      "Epoch 44/100\n",
      "399/399 [==============================] - 0s 944us/step - loss: 0.4425 - accuracy: 0.7898\n",
      "Epoch 45/100\n",
      "399/399 [==============================] - 0s 920us/step - loss: 0.4425 - accuracy: 0.7873\n",
      "Epoch 46/100\n",
      "399/399 [==============================] - 0s 863us/step - loss: 0.4418 - accuracy: 0.7887\n",
      "Epoch 47/100\n",
      "399/399 [==============================] - 0s 884us/step - loss: 0.4411 - accuracy: 0.7891\n",
      "Epoch 48/100\n",
      "399/399 [==============================] - 0s 882us/step - loss: 0.4418 - accuracy: 0.7885\n",
      "Epoch 49/100\n",
      "399/399 [==============================] - 0s 822us/step - loss: 0.4407 - accuracy: 0.7894\n",
      "Epoch 50/100\n",
      "399/399 [==============================] - 0s 820us/step - loss: 0.4414 - accuracy: 0.7903\n",
      "Epoch 51/100\n",
      "399/399 [==============================] - 0s 826us/step - loss: 0.4407 - accuracy: 0.7908\n",
      "Epoch 52/100\n",
      "399/399 [==============================] - 0s 813us/step - loss: 0.4394 - accuracy: 0.7921\n",
      "Epoch 53/100\n",
      "399/399 [==============================] - 0s 815us/step - loss: 0.4393 - accuracy: 0.7900\n",
      "Epoch 54/100\n",
      "399/399 [==============================] - 0s 883us/step - loss: 0.4398 - accuracy: 0.7935\n",
      "Epoch 55/100\n",
      "399/399 [==============================] - 0s 855us/step - loss: 0.4394 - accuracy: 0.7907\n",
      "Epoch 56/100\n",
      "399/399 [==============================] - 0s 889us/step - loss: 0.4403 - accuracy: 0.7924\n",
      "Epoch 57/100\n",
      "399/399 [==============================] - 0s 870us/step - loss: 0.4391 - accuracy: 0.7936\n",
      "Epoch 58/100\n",
      "399/399 [==============================] - 0s 847us/step - loss: 0.4386 - accuracy: 0.7920\n",
      "Epoch 59/100\n",
      "399/399 [==============================] - 0s 907us/step - loss: 0.4377 - accuracy: 0.7934\n",
      "Epoch 60/100\n",
      "399/399 [==============================] - 0s 932us/step - loss: 0.4390 - accuracy: 0.7940\n",
      "Epoch 61/100\n",
      "399/399 [==============================] - 0s 861us/step - loss: 0.4381 - accuracy: 0.7915\n",
      "Epoch 62/100\n",
      "399/399 [==============================] - 0s 830us/step - loss: 0.4369 - accuracy: 0.7918\n",
      "Epoch 63/100\n",
      "399/399 [==============================] - 0s 824us/step - loss: 0.4369 - accuracy: 0.7940\n",
      "Epoch 64/100\n",
      "399/399 [==============================] - 0s 827us/step - loss: 0.4361 - accuracy: 0.7956\n",
      "Epoch 65/100\n",
      "399/399 [==============================] - 0s 839us/step - loss: 0.4369 - accuracy: 0.7940\n",
      "Epoch 66/100\n",
      "399/399 [==============================] - 0s 852us/step - loss: 0.4376 - accuracy: 0.7942\n",
      "Epoch 67/100\n",
      "399/399 [==============================] - 0s 820us/step - loss: 0.4371 - accuracy: 0.7943\n",
      "Epoch 68/100\n",
      "399/399 [==============================] - 0s 834us/step - loss: 0.4368 - accuracy: 0.7905\n",
      "Epoch 69/100\n",
      "399/399 [==============================] - 0s 806us/step - loss: 0.4373 - accuracy: 0.7936\n",
      "Epoch 70/100\n",
      "399/399 [==============================] - 0s 830us/step - loss: 0.4363 - accuracy: 0.7955\n",
      "Epoch 71/100\n",
      "399/399 [==============================] - 0s 824us/step - loss: 0.4361 - accuracy: 0.7932\n",
      "Epoch 72/100\n",
      "399/399 [==============================] - 0s 830us/step - loss: 0.4353 - accuracy: 0.7942\n",
      "Epoch 73/100\n",
      "399/399 [==============================] - 0s 811us/step - loss: 0.4356 - accuracy: 0.7942\n",
      "Epoch 74/100\n",
      "399/399 [==============================] - 0s 924us/step - loss: 0.4366 - accuracy: 0.7940\n",
      "Epoch 75/100\n",
      "399/399 [==============================] - 0s 813us/step - loss: 0.4350 - accuracy: 0.7947\n",
      "Epoch 76/100\n",
      "399/399 [==============================] - 0s 805us/step - loss: 0.4348 - accuracy: 0.7943\n",
      "Epoch 77/100\n",
      "399/399 [==============================] - 0s 814us/step - loss: 0.4353 - accuracy: 0.7950\n",
      "Epoch 78/100\n",
      "399/399 [==============================] - 0s 850us/step - loss: 0.4352 - accuracy: 0.7936\n",
      "Epoch 79/100\n",
      "399/399 [==============================] - 0s 842us/step - loss: 0.4344 - accuracy: 0.7953\n",
      "Epoch 80/100\n",
      "399/399 [==============================] - 0s 847us/step - loss: 0.4340 - accuracy: 0.7951\n",
      "Epoch 81/100\n",
      "399/399 [==============================] - 0s 831us/step - loss: 0.4347 - accuracy: 0.7961\n",
      "Epoch 82/100\n",
      "399/399 [==============================] - 0s 797us/step - loss: 0.4333 - accuracy: 0.7969\n",
      "Epoch 83/100\n",
      "399/399 [==============================] - 0s 810us/step - loss: 0.4341 - accuracy: 0.7962\n",
      "Epoch 84/100\n",
      "399/399 [==============================] - 0s 823us/step - loss: 0.4343 - accuracy: 0.7955\n",
      "Epoch 85/100\n",
      "399/399 [==============================] - 0s 848us/step - loss: 0.4335 - accuracy: 0.7941\n",
      "Epoch 86/100\n",
      "399/399 [==============================] - 0s 829us/step - loss: 0.4336 - accuracy: 0.7969\n",
      "Epoch 87/100\n",
      "399/399 [==============================] - 0s 819us/step - loss: 0.4324 - accuracy: 0.7942\n",
      "Epoch 88/100\n",
      "399/399 [==============================] - 0s 830us/step - loss: 0.4328 - accuracy: 0.7947\n",
      "Epoch 89/100\n",
      "399/399 [==============================] - 0s 821us/step - loss: 0.4328 - accuracy: 0.7958\n",
      "Epoch 90/100\n",
      "399/399 [==============================] - 0s 860us/step - loss: 0.4338 - accuracy: 0.7948\n",
      "Epoch 91/100\n",
      "399/399 [==============================] - 0s 852us/step - loss: 0.4329 - accuracy: 0.7961\n",
      "Epoch 92/100\n",
      "399/399 [==============================] - 0s 844us/step - loss: 0.4320 - accuracy: 0.7969\n",
      "Epoch 93/100\n",
      "399/399 [==============================] - 0s 807us/step - loss: 0.4319 - accuracy: 0.7971\n",
      "Epoch 94/100\n",
      "399/399 [==============================] - 0s 827us/step - loss: 0.4320 - accuracy: 0.7949\n",
      "Epoch 95/100\n",
      "399/399 [==============================] - 0s 819us/step - loss: 0.4312 - accuracy: 0.7962\n",
      "Epoch 96/100\n",
      "399/399 [==============================] - 0s 799us/step - loss: 0.4314 - accuracy: 0.7932\n",
      "Epoch 97/100\n",
      "399/399 [==============================] - 0s 840us/step - loss: 0.4313 - accuracy: 0.7963\n",
      "Epoch 98/100\n",
      "399/399 [==============================] - 0s 809us/step - loss: 0.4302 - accuracy: 0.7948\n",
      "Epoch 99/100\n",
      "399/399 [==============================] - 0s 815us/step - loss: 0.4308 - accuracy: 0.7958\n",
      "Epoch 100/100\n",
      "399/399 [==============================] - 0s 837us/step - loss: 0.4295 - accuracy: 0.7959\n",
      "Classification Report: \n",
      "               precision    recall  f1-score   support\n",
      "\n",
      "           0       0.81      0.75      0.78      1593\n",
      "           1       0.77      0.83      0.80      1593\n",
      "\n",
      "    accuracy                           0.79      3186\n",
      "   macro avg       0.79      0.79      0.79      3186\n",
      "weighted avg       0.79      0.79      0.79      3186\n",
      "\n"
     ]
    }
   ],
   "source": [
    "y_preds = ANN(X_train, y_train, X_test, y_test)"
   ]
  },
  {
   "cell_type": "markdown",
   "id": "2a89a6cb",
   "metadata": {},
   "source": [
    "# SMOTE"
   ]
  },
  {
   "cell_type": "code",
   "execution_count": 54,
   "id": "73221516",
   "metadata": {},
   "outputs": [],
   "source": [
    "X = df2.drop('Exited',axis='columns')\n",
    "y = df2['Exited']"
   ]
  },
  {
   "cell_type": "code",
   "execution_count": 53,
   "id": "728c5d98",
   "metadata": {},
   "outputs": [
    {
     "data": {
      "text/plain": [
       "(10000, 13)"
      ]
     },
     "execution_count": 53,
     "metadata": {},
     "output_type": "execute_result"
    }
   ],
   "source": [
    "df2.shape"
   ]
  },
  {
   "cell_type": "code",
   "execution_count": 217,
   "id": "e5d3ce56",
   "metadata": {},
   "outputs": [
    {
     "name": "stdout",
     "output_type": "stream",
     "text": [
      "\u001b[33mDEPRECATION: Configuring installation scheme with distutils config files is deprecated and will no longer work in the near future. If you are using a Homebrew or Linuxbrew Python, please see discussion at https://github.com/Homebrew/homebrew-core/issues/76621\u001b[0m\n",
      "Requirement already satisfied: imbalanced-learn in /usr/local/lib/python3.9/site-packages (0.9.1)\n",
      "Requirement already satisfied: joblib>=1.0.0 in /usr/local/lib/python3.9/site-packages (from imbalanced-learn) (1.1.0)\n",
      "Requirement already satisfied: threadpoolctl>=2.0.0 in /usr/local/lib/python3.9/site-packages (from imbalanced-learn) (3.1.0)\n",
      "Requirement already satisfied: scikit-learn>=1.1.0 in /usr/local/lib/python3.9/site-packages (from imbalanced-learn) (1.1.1)\n",
      "Requirement already satisfied: numpy>=1.17.3 in /usr/local/lib/python3.9/site-packages (from imbalanced-learn) (1.22.3)\n",
      "Requirement already satisfied: scipy>=1.3.2 in /usr/local/lib/python3.9/site-packages (from imbalanced-learn) (1.8.0)\n",
      "\u001b[33mWARNING: You are using pip version 21.3.1; however, version 22.1.2 is available.\n",
      "You should consider upgrading via the '/usr/local/opt/python@3.9/bin/python3.9 -m pip install --upgrade pip' command.\u001b[0m\n",
      "Note: you may need to restart the kernel to use updated packages.\n"
     ]
    }
   ],
   "source": [
    "pip install imbalanced-learn"
   ]
  },
  {
   "cell_type": "code",
   "execution_count": 231,
   "id": "13cadd39",
   "metadata": {},
   "outputs": [
    {
     "name": "stdout",
     "output_type": "stream",
     "text": [
      "\u001b[33mDEPRECATION: Configuring installation scheme with distutils config files is deprecated and will no longer work in the near future. If you are using a Homebrew or Linuxbrew Python, please see discussion at https://github.com/Homebrew/homebrew-core/issues/76621\u001b[0m\n",
      "Collecting scikit-learn==1.1.0\n",
      "  Downloading scikit_learn-1.1.0-cp39-cp39-macosx_10_13_x86_64.whl (8.6 MB)\n",
      "     |████████████████████████████████| 8.6 MB 718 kB/s            \n",
      "\u001b[?25hRequirement already satisfied: threadpoolctl>=2.0.0 in /usr/local/lib/python3.9/site-packages (from scikit-learn==1.1.0) (3.1.0)\n",
      "Requirement already satisfied: numpy>=1.17.3 in /usr/local/lib/python3.9/site-packages (from scikit-learn==1.1.0) (1.22.3)\n",
      "Requirement already satisfied: scipy>=1.3.2 in /usr/local/lib/python3.9/site-packages (from scikit-learn==1.1.0) (1.8.0)\n",
      "Requirement already satisfied: joblib>=1.0.0 in /usr/local/lib/python3.9/site-packages (from scikit-learn==1.1.0) (1.1.0)\n",
      "Installing collected packages: scikit-learn\n",
      "  Attempting uninstall: scikit-learn\n",
      "    Found existing installation: scikit-learn 1.1.1\n",
      "    Uninstalling scikit-learn-1.1.1:\n",
      "      Successfully uninstalled scikit-learn-1.1.1\n",
      "\u001b[33mDEPRECATION: Configuring installation scheme with distutils config files is deprecated and will no longer work in the near future. If you are using a Homebrew or Linuxbrew Python, please see discussion at https://github.com/Homebrew/homebrew-core/issues/76621\u001b[0m\n",
      "Successfully installed scikit-learn-1.1.0\n",
      "\u001b[33mWARNING: You are using pip version 21.3.1; however, version 22.1.2 is available.\n",
      "You should consider upgrading via the '/usr/local/opt/python@3.9/bin/python3.9 -m pip install --upgrade pip' command.\u001b[0m\n",
      "Note: you may need to restart the kernel to use updated packages.\n"
     ]
    }
   ],
   "source": [
    "pip install -U scikit-learn==1.1.0"
   ]
  },
  {
   "cell_type": "code",
   "execution_count": 232,
   "id": "4e0373c5",
   "metadata": {},
   "outputs": [
    {
     "name": "stdout",
     "output_type": "stream",
     "text": [
      "The scikit-learn version is 1.0.2.\n"
     ]
    }
   ],
   "source": []
  },
  {
   "cell_type": "code",
   "execution_count": 56,
   "id": "8e2b10c2",
   "metadata": {},
   "outputs": [
    {
     "data": {
      "text/plain": [
       "1    7963\n",
       "0    7963\n",
       "Name: Exited, dtype: int64"
      ]
     },
     "execution_count": 56,
     "metadata": {},
     "output_type": "execute_result"
    }
   ],
   "source": [
    "from imblearn.over_sampling import SMOTE \n",
    "\n",
    "smote = SMOTE(sampling_strategy='minority')\n",
    "X_sm, y_sm = smote.fit_resample(X, y)\n",
    "\n",
    "y_sm.value_counts()"
   ]
  },
  {
   "cell_type": "code",
   "execution_count": 57,
   "id": "5098bacc",
   "metadata": {},
   "outputs": [],
   "source": [
    "from sklearn.model_selection import train_test_split\n",
    "X_train, X_test, y_train, y_test = train_test_split(X_sm, y_sm, test_size=0.2, random_state=15, stratify=y_sm)"
   ]
  },
  {
   "cell_type": "code",
   "execution_count": 59,
   "id": "9cfdb914",
   "metadata": {},
   "outputs": [],
   "source": [
    "cols_to_scale = ['CreditScore','Age','Tenure', 'Balance', 'NumOfProducts', 'EstimatedSalary']\n",
    "\n",
    "from sklearn.preprocessing import MinMaxScaler\n",
    "scaler = MinMaxScaler()\n",
    "X_train[cols_to_scale] = scaler.fit_transform(X_train[cols_to_scale] )\n",
    "X_test[cols_to_scale] = scaler.fit_transform(X_test[cols_to_scale])"
   ]
  },
  {
   "cell_type": "code",
   "execution_count": 60,
   "id": "c39123c3",
   "metadata": {},
   "outputs": [
    {
     "name": "stdout",
     "output_type": "stream",
     "text": [
      "Epoch 1/100\n",
      "399/399 [==============================] - 1s 859us/step - loss: 0.5223 - accuracy: 0.7531\n",
      "Epoch 2/100\n",
      "399/399 [==============================] - 0s 874us/step - loss: 0.4044 - accuracy: 0.8174\n",
      "Epoch 3/100\n",
      "399/399 [==============================] - 0s 876us/step - loss: 0.3911 - accuracy: 0.8246\n",
      "Epoch 4/100\n",
      "399/399 [==============================] - 0s 810us/step - loss: 0.3849 - accuracy: 0.8256\n",
      "Epoch 5/100\n",
      "399/399 [==============================] - 0s 937us/step - loss: 0.3786 - accuracy: 0.8295\n",
      "Epoch 6/100\n",
      "399/399 [==============================] - 1s 2ms/step - loss: 0.3725 - accuracy: 0.8319\n",
      "Epoch 7/100\n",
      "399/399 [==============================] - 0s 1ms/step - loss: 0.3661 - accuracy: 0.8361\n",
      "Epoch 8/100\n",
      "399/399 [==============================] - 0s 833us/step - loss: 0.3586 - accuracy: 0.8407\n",
      "Epoch 9/100\n",
      "399/399 [==============================] - 0s 847us/step - loss: 0.3518 - accuracy: 0.8433\n",
      "Epoch 10/100\n",
      "399/399 [==============================] - 0s 827us/step - loss: 0.3447 - accuracy: 0.8471\n",
      "Epoch 11/100\n",
      "399/399 [==============================] - 0s 878us/step - loss: 0.3406 - accuracy: 0.8483\n",
      "Epoch 12/100\n",
      "399/399 [==============================] - 0s 819us/step - loss: 0.3349 - accuracy: 0.8521\n",
      "Epoch 13/100\n",
      "399/399 [==============================] - 0s 923us/step - loss: 0.3314 - accuracy: 0.8541\n",
      "Epoch 14/100\n",
      "399/399 [==============================] - 0s 865us/step - loss: 0.3290 - accuracy: 0.8537\n",
      "Epoch 15/100\n",
      "399/399 [==============================] - 1s 1ms/step - loss: 0.3248 - accuracy: 0.8556\n",
      "Epoch 16/100\n",
      "399/399 [==============================] - 0s 951us/step - loss: 0.3238 - accuracy: 0.8547\n",
      "Epoch 17/100\n",
      "399/399 [==============================] - 0s 851us/step - loss: 0.3225 - accuracy: 0.8582\n",
      "Epoch 18/100\n",
      "399/399 [==============================] - 0s 1ms/step - loss: 0.3184 - accuracy: 0.8579\n",
      "Epoch 19/100\n",
      "399/399 [==============================] - 0s 1ms/step - loss: 0.3185 - accuracy: 0.8594\n",
      "Epoch 20/100\n",
      "399/399 [==============================] - 0s 895us/step - loss: 0.3167 - accuracy: 0.8586\n",
      "Epoch 21/100\n",
      "399/399 [==============================] - 0s 780us/step - loss: 0.3155 - accuracy: 0.8620\n",
      "Epoch 22/100\n",
      "399/399 [==============================] - 0s 781us/step - loss: 0.3140 - accuracy: 0.8610\n",
      "Epoch 23/100\n",
      "399/399 [==============================] - 0s 907us/step - loss: 0.3140 - accuracy: 0.8619\n",
      "Epoch 24/100\n",
      "399/399 [==============================] - 0s 857us/step - loss: 0.3115 - accuracy: 0.8626\n",
      "Epoch 25/100\n",
      "399/399 [==============================] - 0s 826us/step - loss: 0.3115 - accuracy: 0.8630\n",
      "Epoch 26/100\n",
      "399/399 [==============================] - 0s 802us/step - loss: 0.3101 - accuracy: 0.8628\n",
      "Epoch 27/100\n",
      "399/399 [==============================] - 0s 812us/step - loss: 0.3110 - accuracy: 0.8632\n",
      "Epoch 28/100\n",
      "399/399 [==============================] - 0s 824us/step - loss: 0.3086 - accuracy: 0.8671\n",
      "Epoch 29/100\n",
      "399/399 [==============================] - 0s 807us/step - loss: 0.3085 - accuracy: 0.8666\n",
      "Epoch 30/100\n",
      "399/399 [==============================] - 0s 787us/step - loss: 0.3070 - accuracy: 0.8638\n",
      "Epoch 31/100\n",
      "399/399 [==============================] - 0s 795us/step - loss: 0.3065 - accuracy: 0.8681\n",
      "Epoch 32/100\n",
      "399/399 [==============================] - 0s 781us/step - loss: 0.3057 - accuracy: 0.8663\n",
      "Epoch 33/100\n",
      "399/399 [==============================] - 0s 799us/step - loss: 0.3064 - accuracy: 0.8670\n",
      "Epoch 34/100\n",
      "399/399 [==============================] - 0s 920us/step - loss: 0.3058 - accuracy: 0.8657\n",
      "Epoch 35/100\n",
      "399/399 [==============================] - 0s 1ms/step - loss: 0.3058 - accuracy: 0.8674\n",
      "Epoch 36/100\n",
      "399/399 [==============================] - 0s 945us/step - loss: 0.3052 - accuracy: 0.8667\n",
      "Epoch 37/100\n",
      "399/399 [==============================] - 0s 1ms/step - loss: 0.3053 - accuracy: 0.8682\n",
      "Epoch 38/100\n",
      "399/399 [==============================] - 0s 948us/step - loss: 0.3050 - accuracy: 0.8682\n",
      "Epoch 39/100\n",
      "399/399 [==============================] - 0s 849us/step - loss: 0.3039 - accuracy: 0.8680\n",
      "Epoch 40/100\n",
      "399/399 [==============================] - 0s 936us/step - loss: 0.3050 - accuracy: 0.8670\n",
      "Epoch 41/100\n",
      "399/399 [==============================] - 0s 826us/step - loss: 0.3036 - accuracy: 0.8681\n",
      "Epoch 42/100\n",
      "399/399 [==============================] - 0s 838us/step - loss: 0.3038 - accuracy: 0.8704\n",
      "Epoch 43/100\n",
      "399/399 [==============================] - 0s 831us/step - loss: 0.3039 - accuracy: 0.8673\n",
      "Epoch 44/100\n",
      "399/399 [==============================] - 0s 798us/step - loss: 0.3024 - accuracy: 0.8688\n",
      "Epoch 45/100\n",
      "399/399 [==============================] - 0s 794us/step - loss: 0.3035 - accuracy: 0.8673\n",
      "Epoch 46/100\n",
      "399/399 [==============================] - 0s 857us/step - loss: 0.3023 - accuracy: 0.8670\n",
      "Epoch 47/100\n",
      "399/399 [==============================] - 0s 866us/step - loss: 0.3024 - accuracy: 0.8688\n",
      "Epoch 48/100\n",
      "399/399 [==============================] - 0s 812us/step - loss: 0.3021 - accuracy: 0.8676\n",
      "Epoch 49/100\n",
      "399/399 [==============================] - 0s 767us/step - loss: 0.3017 - accuracy: 0.8699\n",
      "Epoch 50/100\n",
      "399/399 [==============================] - 0s 882us/step - loss: 0.3026 - accuracy: 0.8698\n",
      "Epoch 51/100\n",
      "399/399 [==============================] - 0s 808us/step - loss: 0.3005 - accuracy: 0.8682\n",
      "Epoch 52/100\n",
      "399/399 [==============================] - 0s 856us/step - loss: 0.3021 - accuracy: 0.8700\n",
      "Epoch 53/100\n",
      "399/399 [==============================] - 0s 900us/step - loss: 0.3026 - accuracy: 0.8670\n",
      "Epoch 54/100\n",
      "399/399 [==============================] - 0s 894us/step - loss: 0.3015 - accuracy: 0.8684\n",
      "Epoch 55/100\n",
      "399/399 [==============================] - 0s 1ms/step - loss: 0.3009 - accuracy: 0.8682\n",
      "Epoch 56/100\n",
      "399/399 [==============================] - 0s 854us/step - loss: 0.3020 - accuracy: 0.8687\n",
      "Epoch 57/100\n",
      "399/399 [==============================] - 0s 829us/step - loss: 0.3009 - accuracy: 0.8698\n",
      "Epoch 58/100\n",
      "399/399 [==============================] - 0s 773us/step - loss: 0.3018 - accuracy: 0.8675\n",
      "Epoch 59/100\n",
      "399/399 [==============================] - 0s 774us/step - loss: 0.3004 - accuracy: 0.8712\n",
      "Epoch 60/100\n",
      "399/399 [==============================] - 0s 771us/step - loss: 0.2995 - accuracy: 0.8689\n",
      "Epoch 61/100\n",
      "399/399 [==============================] - 0s 752us/step - loss: 0.2998 - accuracy: 0.8691\n",
      "Epoch 62/100\n",
      "399/399 [==============================] - 0s 736us/step - loss: 0.3002 - accuracy: 0.8677\n",
      "Epoch 63/100\n",
      "399/399 [==============================] - 0s 752us/step - loss: 0.2996 - accuracy: 0.8716\n",
      "Epoch 64/100\n",
      "399/399 [==============================] - 0s 780us/step - loss: 0.2998 - accuracy: 0.8695\n",
      "Epoch 65/100\n",
      "399/399 [==============================] - 0s 757us/step - loss: 0.2999 - accuracy: 0.8706\n",
      "Epoch 66/100\n",
      "399/399 [==============================] - 0s 806us/step - loss: 0.3005 - accuracy: 0.8701\n",
      "Epoch 67/100\n",
      "399/399 [==============================] - 0s 797us/step - loss: 0.2978 - accuracy: 0.8684\n",
      "Epoch 68/100\n",
      "399/399 [==============================] - 0s 833us/step - loss: 0.2997 - accuracy: 0.8690\n",
      "Epoch 69/100\n",
      "399/399 [==============================] - 0s 812us/step - loss: 0.2985 - accuracy: 0.8708\n",
      "Epoch 70/100\n",
      "399/399 [==============================] - 0s 780us/step - loss: 0.2981 - accuracy: 0.8666\n",
      "Epoch 71/100\n",
      "399/399 [==============================] - 0s 764us/step - loss: 0.2989 - accuracy: 0.8703\n",
      "Epoch 72/100\n",
      "399/399 [==============================] - 0s 762us/step - loss: 0.2997 - accuracy: 0.8688\n",
      "Epoch 73/100\n",
      "399/399 [==============================] - 0s 748us/step - loss: 0.2982 - accuracy: 0.8703\n",
      "Epoch 74/100\n",
      "399/399 [==============================] - 0s 780us/step - loss: 0.2981 - accuracy: 0.8698\n",
      "Epoch 75/100\n",
      "399/399 [==============================] - 0s 778us/step - loss: 0.2979 - accuracy: 0.8726\n",
      "Epoch 76/100\n",
      "399/399 [==============================] - 0s 762us/step - loss: 0.2991 - accuracy: 0.8696\n",
      "Epoch 77/100\n",
      "399/399 [==============================] - 0s 774us/step - loss: 0.2976 - accuracy: 0.8694\n",
      "Epoch 78/100\n",
      "399/399 [==============================] - 0s 745us/step - loss: 0.2974 - accuracy: 0.8699\n",
      "Epoch 79/100\n",
      "399/399 [==============================] - 0s 741us/step - loss: 0.2965 - accuracy: 0.8704\n",
      "Epoch 80/100\n",
      "399/399 [==============================] - 0s 761us/step - loss: 0.2970 - accuracy: 0.8707\n",
      "Epoch 81/100\n",
      "399/399 [==============================] - 0s 762us/step - loss: 0.2960 - accuracy: 0.8717\n",
      "Epoch 82/100\n",
      "399/399 [==============================] - 0s 752us/step - loss: 0.2978 - accuracy: 0.8699\n",
      "Epoch 83/100\n",
      "399/399 [==============================] - 0s 756us/step - loss: 0.2966 - accuracy: 0.8717\n",
      "Epoch 84/100\n",
      "399/399 [==============================] - 0s 850us/step - loss: 0.2956 - accuracy: 0.8702\n",
      "Epoch 85/100\n",
      "399/399 [==============================] - 0s 796us/step - loss: 0.2951 - accuracy: 0.8686\n",
      "Epoch 86/100\n",
      "399/399 [==============================] - 0s 824us/step - loss: 0.2964 - accuracy: 0.8717\n",
      "Epoch 87/100\n",
      "399/399 [==============================] - 0s 868us/step - loss: 0.2955 - accuracy: 0.8718\n",
      "Epoch 88/100\n",
      "399/399 [==============================] - 0s 895us/step - loss: 0.2958 - accuracy: 0.8724\n",
      "Epoch 89/100\n",
      "399/399 [==============================] - 0s 784us/step - loss: 0.2954 - accuracy: 0.8730\n",
      "Epoch 90/100\n",
      "399/399 [==============================] - 0s 791us/step - loss: 0.2961 - accuracy: 0.8706\n",
      "Epoch 91/100\n",
      "399/399 [==============================] - 0s 791us/step - loss: 0.2964 - accuracy: 0.8712\n",
      "Epoch 92/100\n",
      "399/399 [==============================] - 0s 750us/step - loss: 0.2955 - accuracy: 0.8701\n",
      "Epoch 93/100\n",
      "399/399 [==============================] - 0s 794us/step - loss: 0.2960 - accuracy: 0.8727\n",
      "Epoch 94/100\n",
      "399/399 [==============================] - 0s 758us/step - loss: 0.2956 - accuracy: 0.8704\n",
      "Epoch 95/100\n",
      "399/399 [==============================] - 0s 861us/step - loss: 0.2948 - accuracy: 0.8717\n",
      "Epoch 96/100\n",
      "399/399 [==============================] - 0s 752us/step - loss: 0.2952 - accuracy: 0.8710\n",
      "Epoch 97/100\n",
      "399/399 [==============================] - 0s 744us/step - loss: 0.2942 - accuracy: 0.8728\n",
      "Epoch 98/100\n",
      "399/399 [==============================] - 0s 738us/step - loss: 0.2957 - accuracy: 0.8702\n",
      "Epoch 99/100\n",
      "399/399 [==============================] - 0s 754us/step - loss: 0.2954 - accuracy: 0.8728\n",
      "Epoch 100/100\n",
      "399/399 [==============================] - 0s 770us/step - loss: 0.2943 - accuracy: 0.8719\n",
      "Classification Report: \n",
      "               precision    recall  f1-score   support\n",
      "\n",
      "           0       0.87      0.85      0.86      1593\n",
      "           1       0.85      0.87      0.86      1593\n",
      "\n",
      "    accuracy                           0.86      3186\n",
      "   macro avg       0.86      0.86      0.86      3186\n",
      "weighted avg       0.86      0.86      0.86      3186\n",
      "\n"
     ]
    }
   ],
   "source": [
    "y_preds = ANN(X_train, y_train, X_test, y_test)"
   ]
  },
  {
   "cell_type": "code",
   "execution_count": 65,
   "id": "cbef2863",
   "metadata": {},
   "outputs": [
    {
     "data": {
      "text/plain": [
       "2000"
      ]
     },
     "execution_count": 65,
     "metadata": {},
     "output_type": "execute_result"
    }
   ],
   "source": [
    "len(y_pred)"
   ]
  },
  {
   "cell_type": "code",
   "execution_count": 66,
   "id": "cc21fb4f",
   "metadata": {},
   "outputs": [
    {
     "data": {
      "text/plain": [
       "Text(66.5, 0.5, 'Truth')"
      ]
     },
     "execution_count": 66,
     "metadata": {},
     "output_type": "execute_result"
    },
    {
     "data": {
      "image/png": "[encoded data removed]",
      "text/plain": [
       "<Figure size 720x504 with 2 Axes>"
      ]
     },
     "metadata": {},
     "output_type": "display_data"
    }
   ],
   "source": [
    "import seaborn as sn\n",
    "cm = tf.math.confusion_matrix(labels=y_test,predictions=y_preds)\n",
    "\n",
    "plt.figure(figsize = (10,7))\n",
    "sn.heatmap(cm, annot=True, fmt='d')\n",
    "plt.xlabel('Predicted')\n",
    "plt.ylabel('Truth')"
   ]
  }
 ],
 "metadata": {
  "kernelspec": {
   "display_name": "Python 3 (ipykernel)",
   "language": "python",
   "name": "python3"
  },
  "language_info": {
   "codemirror_mode": {
    "name": "ipython",
    "version": 3
   },
   "file_extension": ".py",
   "mimetype": "text/x-python",
   "name": "python",
   "nbconvert_exporter": "python",
   "pygments_lexer": "ipython3",
   "version": "3.9.10"
  }
 },
 "nbformat": 4,
 "nbformat_minor": 5
}
